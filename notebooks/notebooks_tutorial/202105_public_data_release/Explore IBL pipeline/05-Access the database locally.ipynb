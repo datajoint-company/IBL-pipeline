{
 "cells": [
  {
   "cell_type": "markdown",
   "id": "f7a952ea",
   "metadata": {},
   "source": [
    "# Access the database locally"
   ]
  },
  {
   "cell_type": "markdown",
   "id": "96283af0",
   "metadata": {},
   "source": [
    "This notebook shows how to connect to the IBL public database on your local machine.\n",
    "\n",
    "The database contains the data in this publication, [A standardized and reproducible method to measure decision-making in mice](https://doi.org/10.1101/2020.01.17.909838) and sample ephys data from 4 probe insertions."
   ]
  },
  {
   "cell_type": "code",
   "execution_count": null,
   "id": "55e601a7",
   "metadata": {},
   "outputs": [],
   "source": [
    "import datajoint as dj"
   ]
  },
  {
   "cell_type": "markdown",
   "id": "1ebe3a34",
   "metadata": {},
   "source": [
    "The host of the database, username and password are saved in the global variable `dj.config`"
   ]
  },
  {
   "cell_type": "code",
   "execution_count": null,
   "id": "4a957ca4",
   "metadata": {},
   "outputs": [],
   "source": [
    "dj.config"
   ]
  },
  {
   "cell_type": "markdown",
   "id": "78ffc234",
   "metadata": {},
   "source": [
    "In your local directory, set up the config as follows using the values of the fields `database.host`, `database.user` and `database.password` from above.\n",
    "\n",
    "```\n",
    "from getpass import getpass\n",
    "\n",
    "dj.config['database.host'] = 'datajoint-public.internationalbrainlab.org'\n",
    "dj.config['database.user'] = '{USERNAME}'\n",
    "dj.config['database.password'] = getpass()\n",
    "```\n",
    "Then save the variable in a local file `dj_local_conf.json` with:\n",
    "\n",
    "`dj.config.save_local()`\n",
    "\n",
    "After this, every time you start your kernel from a directory that contains this file, datajoint is already prefigured."
   ]
  },
  {
   "cell_type": "markdown",
   "id": "c47e98d4",
   "metadata": {},
   "source": [
    "To test whether your credentials work, try connecting to the database by:"
   ]
  },
  {
   "cell_type": "code",
   "execution_count": null,
   "id": "72529d9c",
   "metadata": {},
   "outputs": [],
   "source": [
    "dj.conn()"
   ]
  },
  {
   "cell_type": "markdown",
   "id": "7e3b2ac0",
   "metadata": {},
   "source": [
    "# Local version of the notebooks"
   ]
  },
  {
   "cell_type": "markdown",
   "id": "f8a99acf",
   "metadata": {},
   "source": [
    "You can find the local version of the notebooks in this GitHub repository: [IBL-pipeline-light](https://github.com/int-brain-lab/IBL-pipeline-light).\n",
    "\n",
    "To replicate all figures in the behavior paper, [A standardized and reproducible method to measure decision-making in mice](https://doi.org/10.1101/2020.01.17.909838), visit this GitHub Repository: https://github.com/int-brain-lab/paper-behavior"
   ]
  }
 ],
 "metadata": {
  "kernelspec": {
   "display_name": "Python 3",
   "language": "python",
   "name": "python3"
  },
  "language_info": {
   "codemirror_mode": {
    "name": "ipython",
    "version": 3
   },
   "file_extension": ".py",
   "mimetype": "text/x-python",
   "name": "python",
   "nbconvert_exporter": "python",
   "pygments_lexer": "ipython3",
   "version": "3.8.5"
  }
 },
 "nbformat": 4,
 "nbformat_minor": 5
}
