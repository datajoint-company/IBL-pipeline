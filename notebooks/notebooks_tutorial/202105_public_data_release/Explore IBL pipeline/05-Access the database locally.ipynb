{
 "cells": [
  {
   "cell_type": "markdown",
   "id": "f7a952ea",
   "metadata": {},
   "source": [
    "# Accessing the public database on your local machine\n",
    "\n",
    "```{important}\n",
    "To be able to access the data from your local machine, you will need to have a working python environment with all of the required dependencies installed. For more information, see <https://github.com/int-brain-lab/iblenv>.\n",
    "```\n",
    "\n",
    "Before you can start using DataJoint with IBL data on your local machine, you will need to set your DataJoint credentials. You must specify a database connection to tell DataJoint where to look for IBL data, as well as grant access to these data by providing a username and password. \n",
    "\n",
    "Start by opening a new python script or terminal, importing DataJoint then setting a few configuration options. [With your IBL environment activated](https://github.com/int-brain-lab/iblenv), run:"
   ]
  },
  {
   "cell_type": "code",
   "execution_count": null,
   "id": "55e601a7",
   "metadata": {},
   "outputs": [],
   "source": [
    "import datajoint as dj"
   ]
  },
  {
   "cell_type": "markdown",
   "id": "1ebe3a34",
   "metadata": {},
   "source": [
    "The database's hostname, username, and password are saved in the global variable `dj.config`. See it's contents by running the following line:"
   ]
  },
  {
   "cell_type": "code",
   "execution_count": null,
   "id": "4a957ca4",
   "metadata": {},
   "outputs": [],
   "source": [
    "dj.config"
   ]
  },
  {
   "cell_type": "markdown",
   "id": "c47e98d4",
   "metadata": {},
   "source": [
    "By default, it should look something like this:\n",
    "\n",
    "```python\n",
    "{   'connection.charset': '',\n",
    "    'connection.init_function': None,\n",
    "    'database.host': 'localhost',\n",
    "    'database.password': None,\n",
    "    'database.port': 3306,\n",
    "    'database.reconnect': True,\n",
    "    'database.use_tls': None,\n",
    "    'database.user': None,\n",
    "    'display.limit': 12,\n",
    "    'display.show_tuple_count': True,\n",
    "    'display.width': 14,\n",
    "    'enable_python_native_blobs': True,\n",
    "    'fetch_format': 'array',\n",
    "    'loglevel': 'INFO',\n",
    "    'safemode': True\n",
    "}\n",
    "```\n",
    "\n",
    "You need to replace a few entries with the following values: \n",
    "\n",
    "```{important}\n",
    "Public IBL Credentials:\n",
    "\n",
    "  hostname: datajoint-public.internationalbrainlab.org\n",
    "  username: ibl-public\n",
    "  password: ibl-public\n",
    "```\n",
    "\n",
    "The database connection is specified by the key `database.host`. Change the config using the values above for the fields `database.host`, `database.user` and `database.password`:"
   ]
  },
  {
   "cell_type": "code",
   "execution_count": null,
   "id": "72529d9c",
   "metadata": {},
   "outputs": [],
   "source": [
    "dj.config[\"database.host\"] = \"datajoint-public.internationalbrainlab.org\"\n",
    "dj.config[\"database.user\"] = \"ibl-public\"\n",
    "dj.config[\"database.password\"] = \"ibl-public\""
   ]
  },
  {
   "cell_type": "markdown",
   "id": "dcc3e0e1",
   "metadata": {},
   "source": [
    "Then save the changes to a local JSON configuration file (`dj_local_conf.json`) by running:"
   ]
  },
  {
   "cell_type": "markdown",
   "id": "4995bc79",
   "metadata": {},
   "source": [
    "```python\n",
    "dj.config.save_local()\n",
    "```\n",
    "\n",
    "After the above step, every time you start your python kernel from a directory that contains this file, DataJoint will look for this file and load the config without having to set credentials again. If you want to set your credentials globally, without having to be in the directory containing the file `dj_local_config.json`, you can do so by running the following:\n",
    "\n",
    "```python\n",
    "dj.config.save_global()\n",
    "```"
   ]
  },
  {
   "cell_type": "markdown",
   "id": "beb27f76",
   "metadata": {},
   "source": [
    "To test whether your credentials work, try connecting to the database by running:"
   ]
  },
  {
   "cell_type": "code",
   "execution_count": null,
   "id": "4d764659",
   "metadata": {},
   "outputs": [],
   "source": [
    "dj.conn()"
   ]
  },
  {
   "cell_type": "markdown",
   "id": "c9ace647",
   "metadata": {},
   "source": [
    "You should find that DataJoint automatically connects to the database! To see which schemas you have access to, run:"
   ]
  },
  {
   "cell_type": "code",
   "execution_count": null,
   "id": "c223ab59",
   "metadata": {},
   "outputs": [],
   "source": [
    "dj.list_schemas()"
   ]
  },
  {
   "cell_type": "markdown",
   "id": "80d19481",
   "metadata": {},
   "source": [
    "You should have access to the following _public_ schemas:\n",
    "\n",
    "```python\n",
    "[\n",
    "    \"ibl_acquisition\",\n",
    "    \"ibl_action\",\n",
    "    \"ibl_analyses_behavior\",\n",
    "    \"ibl_behavior\",\n",
    "    \"ibl_data\",\n",
    "    \"ibl_ephys\",\n",
    "    \"ibl_histology\",\n",
    "    \"ibl_reference\",\n",
    "    \"ibl_storage\",\n",
    "    \"ibl_subject\",\n",
    "]\n",
    "```\n",
    "\n",
    "Use the DataJoint class `VirtualModule` to connect the database schemas to python and be able to use DataJoint syntax to access and query data from the above tables. "
   ]
  },
  {
   "cell_type": "code",
   "execution_count": null,
   "id": "0ae085a6",
   "metadata": {},
   "outputs": [],
   "source": [
    "reference = dj.VirtualModule(\"reference\", \"ibl_reference\")\n",
    "subject = dj.VirtualModule(\"subject\", \"ibl_subject\")\n",
    "action = dj.VirtualModule(\"action\", \"ibl_action\")\n",
    "acquisition = dj.VirtualModule(\"acquisition\", \"ibl_acquisition\")\n",
    "data = dj.VirtualModule(\"data\", \"ibl_data\")\n",
    "behavior = dj.VirtualModule(\"behavior\", \"ibl_behavior\")\n",
    "ephys = dj.VirtualModule(\"ephys\", \"ibl_ephys\")\n",
    "histology = dj.VirtualModule(\"histology\", \"ibl_histology\")\n",
    "behavior_analyses = dj.VirtualModule(\"analysis.behavior\", \"ibl_analyses_behavior\")"
   ]
  },
  {
   "cell_type": "markdown",
   "id": "1fa91193",
   "metadata": {},
   "source": [
    "Use `VirtualModule()` so you don't have to obtain the [IBL-pipeline](https://github.com/int-brain-lab/IBL-pipeline) source code and import these modules directly from the `ibl_pipeline` package. The `VirtualModule` method is equivalent (in terms of public data read access features) to doing the following if you have access to the source code:\n",
    "\n",
    "```python\n",
    "from ibl_pipeline import reference, subject, action, acquisition, data, behavior, ephys, histology\n",
    "from ibl_pipeline.analyses import behavior as behavior_analyses\n",
    "```\n",
    "\n",
    "You can view the `public_notebooks` as described in the JupyterHub section above for more details on queries and usage of the public tables using DataJoint for python, as well as the [IBL DataJoint behavior plot example notebook](../notebooks/dj_intro/dj_intro.ipynb) "
   ]
  }
 ],
 "metadata": {
  "interpreter": {
   "hash": "64a756e0b4d448fa3012e095c9214e3d7f7afcccbc0825c9248d654671c6c25e"
  },
  "kernelspec": {
   "display_name": "Python 3.8.11 64-bit ('iblenv': conda)",
   "name": "python3"
  },
  "language_info": {
   "codemirror_mode": {
    "name": "ipython",
    "version": 3
   },
   "file_extension": ".py",
   "mimetype": "text/x-python",
   "name": "python",
   "nbconvert_exporter": "python",
   "pygments_lexer": "ipython3",
   "version": "3.8.11"
  }
 },
 "nbformat": 4,
 "nbformat_minor": 5
}
