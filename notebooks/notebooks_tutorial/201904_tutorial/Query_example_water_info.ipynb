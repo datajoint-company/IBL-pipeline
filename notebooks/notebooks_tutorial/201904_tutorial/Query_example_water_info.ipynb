{
 "cells": [
  {
   "cell_type": "code",
   "execution_count": null,
   "metadata": {},
   "outputs": [],
   "source": [
    "import datajoint as dj\n",
    "from ibl_pipeline import reference, subject, action, acquisition, data, behavior\n",
    "import matplotlib.pyplot as plt"
   ]
  },
  {
   "cell_type": "markdown",
   "metadata": {},
   "source": [
    "## Check weights of a subject"
   ]
  },
  {
   "cell_type": "code",
   "execution_count": null,
   "metadata": {},
   "outputs": [],
   "source": [
    "subj = subject.Subject & 'subject_nickname=\"IBL-T1\"'\n",
    "subj"
   ]
  },
  {
   "cell_type": "code",
   "execution_count": null,
   "metadata": {},
   "outputs": [],
   "source": [
    "weighing_time, weight = (action.Weighing & subj).fetch('weighing_time', 'weight')"
   ]
  },
  {
   "cell_type": "code",
   "execution_count": null,
   "metadata": {},
   "outputs": [],
   "source": [
    "weighing_date = [time.date() for time in weighing_time]"
   ]
  },
  {
   "cell_type": "code",
   "execution_count": null,
   "metadata": {},
   "outputs": [],
   "source": [
    "plt.plot(weighing_date, weight, 'o-')\n",
    "plt.xticks(rotation='vertical')"
   ]
  },
  {
   "cell_type": "code",
   "execution_count": null,
   "metadata": {},
   "outputs": [],
   "source": [
    "weighing_with_date = action.Weighing.proj(weighing_date='DATE(weighing_time)')\n",
    "weighing_with_date"
   ]
  },
  {
   "cell_type": "code",
   "execution_count": null,
   "metadata": {},
   "outputs": [],
   "source": [
    "weighing_date, weight = (weighing_with_date * action.Weighing & subj).fetch('weighing_date', 'weight')"
   ]
  },
  {
   "cell_type": "code",
   "execution_count": null,
   "metadata": {},
   "outputs": [],
   "source": [
    "plt.plot(weighing_date, weight, 'o-')\n",
    "plt.xticks(rotation='vertical')"
   ]
  },
  {
   "cell_type": "code",
   "execution_count": null,
   "metadata": {},
   "outputs": [],
   "source": [
    "last_time = subj.aggr(action.Weighing, lastest='MAX(weighing_time)').fetch1('lastest')"
   ]
  },
  {
   "cell_type": "code",
   "execution_count": null,
   "metadata": {},
   "outputs": [],
   "source": [
    "weight = (action.Weighing & {'weighing_time': last_time}).fetch1('weight')\n",
    "weight"
   ]
  },
  {
   "cell_type": "markdown",
   "metadata": {},
   "source": [
    "# Query of water type that weekend since September"
   ]
  },
  {
   "cell_type": "markdown",
   "metadata": {},
   "source": [
    "Step 1: Project the table action.WaterAdministration to only contain the information of interest together with the primary key. \n",
    "<br> With `.proj()`, users are able to restrict to certain attributes, rename the existing attributes, or create new attributes computed from the original ones. In this case, we would like to compute the day of week of water administration `water_admin_dow`"
   ]
  },
  {
   "cell_type": "code",
   "execution_count": null,
   "metadata": {},
   "outputs": [],
   "source": [
    "water_admin = action.WaterAdministration.proj(\n",
    "    'watertype_name', water_admin_dow='dayofweek(administration_time)')\n",
    "water_admin"
   ]
  },
  {
   "cell_type": "markdown",
   "metadata": {},
   "source": [
    "Step 2: Restrict to the entries with `administration_time` in the weekend:"
   ]
  },
  {
   "cell_type": "code",
   "execution_count": null,
   "metadata": {},
   "outputs": [],
   "source": [
    "water_admin_weekend = water_admin & 'administration_time>\"2018-08-31\"' & \\\n",
    "    'water_admin_dow in (6,7)' & subj\n",
    "water_admin_weekend"
   ]
  },
  {
   "cell_type": "markdown",
   "metadata": {},
   "source": [
    "Step 3: If you want to put the subject_nickname aside, you could use `*` operator, that allows joining of two tables."
   ]
  },
  {
   "cell_type": "code",
   "execution_count": null,
   "metadata": {},
   "outputs": [],
   "source": [
    "subj.proj('subject_nickname') * water_admin_weekend"
   ]
  },
  {
   "cell_type": "markdown",
   "metadata": {},
   "source": [
    "Finally, if you want, you can also do the whole query in a single line:"
   ]
  },
  {
   "cell_type": "code",
   "execution_count": null,
   "metadata": {},
   "outputs": [],
   "source": [
    "(subject.Subject & 'subject_nickname=\"IBL-T1\"').proj('subject_nickname') * (action.WaterAdministration.proj('watertype_name', dow='dayofweek(administration_time)') & 'administration_time>\"2018-08-31\"' & 'dow in (6,7)')"
   ]
  },
  {
   "cell_type": "markdown",
   "metadata": {},
   "source": [
    "# Query of water type on Monday, Tuesday and Friday"
   ]
  },
  {
   "cell_type": "markdown",
   "metadata": {},
   "source": [
    "Similarly as above:"
   ]
  },
  {
   "cell_type": "code",
   "execution_count": null,
   "metadata": {},
   "outputs": [],
   "source": [
    "subj.proj('subject_nickname') * \\\n",
    "    (action.WaterAdministration.proj('watertype_name', water_admin_dow='dayofweek(administration_time)') &  \\\n",
    "     'administration_time>\"2018-08-31\"' & 'water_admin_dow in (1, 2, 5)')"
   ]
  },
  {
   "cell_type": "markdown",
   "metadata": {},
   "source": [
    "# Query of the weight, water intake and trial counts on Monday, Tuesday and Friday."
   ]
  },
  {
   "cell_type": "markdown",
   "metadata": {},
   "source": [
    "### Weight"
   ]
  },
  {
   "cell_type": "markdown",
   "metadata": {},
   "source": [
    "Project the weight table to contain only the weight and the primary key, add attribute `wt_dow` "
   ]
  },
  {
   "cell_type": "code",
   "execution_count": null,
   "metadata": {},
   "outputs": [],
   "source": [
    "weight = action.Weighing.proj('weight', wt_dow='dayofweek(weighing_time)')\n",
    "weight"
   ]
  },
  {
   "cell_type": "markdown",
   "metadata": {},
   "source": [
    "Restrict to the weight that abtained on Monday, Tuesday and Friday:"
   ]
  },
  {
   "cell_type": "code",
   "execution_count": null,
   "metadata": {},
   "outputs": [],
   "source": [
    "weight_interest = weight & subj & 'weighing_time>\"2018-08-31\"' & 'wt_dow in (1, 2, 5)'\n",
    "weight_interest"
   ]
  },
  {
   "cell_type": "markdown",
   "metadata": {},
   "source": [
    "Similarly, if you would like the `subject_nickname` showing aside, do the join trick again:"
   ]
  },
  {
   "cell_type": "code",
   "execution_count": null,
   "metadata": {},
   "outputs": [],
   "source": [
    "subj.proj('subject_nickname') * weight_interest"
   ]
  },
  {
   "cell_type": "markdown",
   "metadata": {},
   "source": [
    "Again, the whole query would be done in one line as well, giving the same results:"
   ]
  },
  {
   "cell_type": "code",
   "execution_count": null,
   "metadata": {},
   "outputs": [],
   "source": [
    "(subject.Subject & 'subject_nickname=\"IBL-T1\"').proj('subject_nickname') * (action.Weighing.proj('weight', wt_dow='dayofweek(weighing_time)') & 'weighing_time>\"2018-08-31\"' & 'wt_dow in (1, 2, 5)')"
   ]
  },
  {
   "cell_type": "markdown",
   "metadata": {},
   "source": [
    "### Water Intake"
   ]
  },
  {
   "cell_type": "code",
   "execution_count": null,
   "metadata": {},
   "outputs": [],
   "source": [
    "(subject.Subject & 'subject_nickname=\"IBL-T1\"').proj('subject_nickname') * (action.WaterAdministration.proj('watertype_name', water_intake=\"water_administered\", dow='dayofweek(administration_time)') & 'administration_time>\"2018-08-31\"' & 'dow in (1, 2, 5)')"
   ]
  }
 ],
 "metadata": {
  "kernelspec": {
   "display_name": "Python 3",
   "language": "python",
   "name": "python3"
  },
  "language_info": {
   "codemirror_mode": {
    "name": "ipython",
    "version": 3
   },
   "file_extension": ".py",
   "mimetype": "text/x-python",
   "name": "python",
   "nbconvert_exporter": "python",
   "pygments_lexer": "ipython3",
   "version": "3.6.6"
  }
 },
 "nbformat": 4,
 "nbformat_minor": 2
}
