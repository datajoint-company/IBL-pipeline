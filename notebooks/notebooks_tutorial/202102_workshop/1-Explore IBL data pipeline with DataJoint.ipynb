{
 "cells": [
  {
   "cell_type": "markdown",
   "metadata": {},
   "source": [
    "# Explore IBL data Pipeline\n",
    "\n",
    "Here we introduce some useful DataJoint tools to explore the IBL data pipeline\n",
    "\n",
    "First thing first, let's **import DataJoint and the IBL pipeline package**."
   ]
  },
  {
   "cell_type": "code",
   "execution_count": 2,
   "metadata": {},
   "outputs": [
    {
     "name": "stdout",
     "output_type": "stream",
     "text": [
      "Connecting dbadmin@datajoint-rds.cyuksi65nrdq.us-east-1.rds.amazonaws.com:3306\n",
      "Connected to https://alyx.internationalbrainlab.org as vathes\n",
      "Connected to https://alyx.internationalbrainlab.org as vathes\n",
      "Connected to https://alyx.internationalbrainlab.org as vathes\n"
     ]
    }
   ],
   "source": [
    "import datajoint as dj\n",
    "from ibl_pipeline import reference, subject, action, acquisition, data, behavior, ephys, histology\n",
    "from ibl_pipeline.analyses import behavior as behavior_analyses"
   ]
  },
  {
   "cell_type": "markdown",
   "metadata": {},
   "source": [
    "# 1. Browse schemas you have access to - `dj.list_schemas()`"
   ]
  },
  {
   "cell_type": "code",
   "execution_count": 3,
   "metadata": {},
   "outputs": [
    {
     "data": {
      "text/plain": [
       "['datajoint_monitoring',\n",
       " 'group_shared_anneurai_analyses',\n",
       " 'group_shared_anneurai_psytrack',\n",
       " 'group_shared_end_criteria',\n",
       " 'group_shared_ephys',\n",
       " 'group_shared_sfndata',\n",
       " 'group_shared_testing',\n",
       " 'group_shared_wheel',\n",
       " 'group_shared_wheel_moves',\n",
       " 'ibl_acquisition',\n",
       " 'ibl_action',\n",
       " 'ibl_alyxraw',\n",
       " 'ibl_analyses_behavior',\n",
       " 'ibl_analyses_ephys',\n",
       " 'ibl_behavior',\n",
       " 'ibl_data',\n",
       " 'ibl_debug',\n",
       " 'ibl_dj_acquisition',\n",
       " 'ibl_dj_action',\n",
       " 'ibl_dj_behavior',\n",
       " 'ibl_dj_data',\n",
       " 'ibl_dj_reference',\n",
       " 'ibl_dj_subject',\n",
       " 'ibl_ephys',\n",
       " 'ibl_histology',\n",
       " 'ibl_ingest_acquisition',\n",
       " 'ibl_ingest_action',\n",
       " 'ibl_ingest_data',\n",
       " 'ibl_ingest_ephys',\n",
       " 'ibl_ingest_histology',\n",
       " 'ibl_ingest_job',\n",
       " 'ibl_ingest_qc',\n",
       " 'ibl_ingest_reference',\n",
       " 'ibl_ingest_subject',\n",
       " 'ibl_jaib1_tutorial',\n",
       " 'ibl_patch',\n",
       " 'ibl_plotting_behavior',\n",
       " 'ibl_plotting_ephys',\n",
       " 'ibl_public',\n",
       " 'ibl_qc',\n",
       " 'ibl_reference',\n",
       " 'ibl_storage',\n",
       " 'ibl_subject',\n",
       " 'ibl_update',\n",
       " 'innodb',\n",
       " 'kenneth_test',\n",
       " 'mysql',\n",
       " 'performance_schema',\n",
       " 'sys',\n",
       " 'test',\n",
       " 'test_group_shared_ephys',\n",
       " 'test_group_shared_wheel',\n",
       " 'test_ibl_acquisition',\n",
       " 'test_ibl_action',\n",
       " 'test_ibl_alyxraw',\n",
       " 'test_ibl_analyses_behavior',\n",
       " 'test_ibl_analyses_ephys',\n",
       " 'test_ibl_behavior',\n",
       " 'test_ibl_data',\n",
       " 'test_ibl_ephys',\n",
       " 'test_ibl_histology',\n",
       " 'test_ibl_ingest_acquisition',\n",
       " 'test_ibl_ingest_action',\n",
       " 'test_ibl_ingest_data',\n",
       " 'test_ibl_ingest_ephys',\n",
       " 'test_ibl_ingest_histology',\n",
       " 'test_ibl_ingest_job',\n",
       " 'test_ibl_ingest_reference',\n",
       " 'test_ibl_ingest_subject',\n",
       " 'test_ibl_plotting_behavior',\n",
       " 'test_ibl_plotting_ephys',\n",
       " 'test_ibl_reference',\n",
       " 'test_ibl_storage',\n",
       " 'test_ibl_subject',\n",
       " 'test_ibl_update',\n",
       " 'test_mcg_ibl_ibl_acquisition',\n",
       " 'test_mcg_ibl_ibl_action',\n",
       " 'test_mcg_ibl_ibl_reference',\n",
       " 'test_mcg_ibl_ibl_subject',\n",
       " 'tmp',\n",
       " 'update_ibl_alyxraw',\n",
       " 'user_alejandro.pan_tutorial',\n",
       " 'user_anneurai_aging',\n",
       " 'user_anneurai_analyses',\n",
       " 'user_anneurai_behavior',\n",
       " 'user_anneurai_sessiongroup',\n",
       " 'user_anneurai_tutorial',\n",
       " 'user_chris_exttest',\n",
       " 'user_chris_tutorial',\n",
       " 'user_cskrasniak_tutorial',\n",
       " 'user_eejd_tutorial',\n",
       " 'user_ekb2154_tutorial',\n",
       " 'user_eywalker_tutorial',\n",
       " 'user_gaellechapuis_tutorial',\n",
       " 'user_gercek_tutorial',\n",
       " 'user_guido.meijer_tutorial',\n",
       " 'user_guidomeijer_tutorial',\n",
       " 'user_hernandomv_tutorial',\n",
       " 'user_ineslaranjeira_tutorial',\n",
       " 'user_jaib1_tutorial',\n",
       " 'user_jeanpaulnc_tutorial',\n",
       " 'user_jeanpaulnc_tutorial1',\n",
       " 'user_karolinasocha_tutorial',\n",
       " 'user_kushbanga_tutorial',\n",
       " 'user_lacerbi_tutorial',\n",
       " 'user_mayofaulkner_tutorial',\n",
       " 'user_mileswells_end_criteria',\n",
       " 'user_mileswells_test',\n",
       " 'user_mileswells_trials_qc',\n",
       " 'user_mileswells_wheel',\n",
       " 'user_mileswells_wheel_new',\n",
       " 'user_mw3323_tutorial',\n",
       " 'user_nicco_tutorial',\n",
       " 'user_njmiska_tutorial',\n",
       " 'user_shan_test',\n",
       " 'user_shan_tutorial',\n",
       " 'user_tsukasar_test']"
      ]
     },
     "execution_count": 3,
     "metadata": {},
     "output_type": "execute_result"
    }
   ],
   "source": [
    "dj.list_schemas()"
   ]
  },
  {
   "cell_type": "markdown",
   "metadata": {},
   "source": [
    "\n",
    "## Major schemas:   \n",
    "\n",
    "Meta data from **Alyx**: `ibl_reference`, `ibl_subject`, `ibl_action`, `ibl_acquisition`, `ibl_data`, `ibl_qc`\n",
    "Imported data from **FlatIron**: `ibl_behavior`, `ibl_ephys`, `ibl_histology`  \n",
    "Computed analzyed results: `ibl_analyses_behavior`  "
   ]
  },
  {
   "cell_type": "markdown",
   "metadata": {},
   "source": [
    "# 2. Browse tables in a schema - `dj.Diagram`"
   ]
  },
  {
   "cell_type": "markdown",
   "metadata": {},
   "source": [
    "**Table tiers**:  \n",
    "Manual table: green box  \n",
    "Lookup table: gray box  \n",
    "Imported table: blue oval  \n",
    "Computed table: red circle  \n",
    "Part table: plain text"
   ]
  },
  {
   "cell_type": "markdown",
   "metadata": {},
   "source": [
    "**Dependencies**:  \n",
    "One-to-one primary: thick solid line  \n",
    "One-to-many primary: thin solid line  \n",
    "Secondary foreign key reference: dashed line\n",
    "Renamed secondary foreign key references: orange dot"
   ]
  },
  {
   "cell_type": "markdown",
   "metadata": {},
   "source": [
    "## Show tables in the whole schema"
   ]
  },
  {
   "cell_type": "code",
   "execution_count": null,
   "metadata": {},
   "outputs": [],
   "source": [
    "dj.Diagram(reference)"
   ]
  },
  {
   "cell_type": "markdown",
   "metadata": {},
   "source": [
    "## Show diagram of arbitruary parts of the database"
   ]
  },
  {
   "cell_type": "code",
   "execution_count": null,
   "metadata": {},
   "outputs": [],
   "source": [
    "dj.Diagram(subject)"
   ]
  },
  {
   "cell_type": "markdown",
   "metadata": {},
   "source": [
    "A combination of arbitruary tables:"
   ]
  },
  {
   "cell_type": "code",
   "execution_count": null,
   "metadata": {},
   "outputs": [],
   "source": [
    "dj.Diagram(subject.Subject) + dj.Diagram(subject.Line) + dj.Diagram(subject.SubjectLab) + dj.Diagram(subject.SubjectProject)"
   ]
  },
  {
   "cell_type": "markdown",
   "metadata": {},
   "source": [
    "The tables could be from different schemas:"
   ]
  },
  {
   "cell_type": "code",
   "execution_count": null,
   "metadata": {},
   "outputs": [],
   "source": [
    "dj.Diagram(subject.Subject) + dj.Diagram(acquisition.Session)"
   ]
  },
  {
   "cell_type": "markdown",
   "metadata": {},
   "source": [
    "# 3. Getting the detailed definition of a table - `table.describe()`"
   ]
  },
  {
   "cell_type": "code",
   "execution_count": null,
   "metadata": {},
   "outputs": [],
   "source": [
    "subject.Subject.describe();"
   ]
  },
  {
   "cell_type": "markdown",
   "metadata": {},
   "source": [
    "# 4. Browsing of data - queries"
   ]
  },
  {
   "cell_type": "markdown",
   "metadata": {},
   "source": [
    "Query all subjects"
   ]
  },
  {
   "cell_type": "code",
   "execution_count": null,
   "metadata": {},
   "outputs": [],
   "source": [
    "subject.Subject()"
   ]
  },
  {
   "cell_type": "markdown",
   "metadata": {},
   "source": [
    "## Restriction  `&`: filtering data"
   ]
  },
  {
   "cell_type": "markdown",
   "metadata": {},
   "source": [
    "### Restriction: Query one subject"
   ]
  },
  {
   "cell_type": "code",
   "execution_count": null,
   "metadata": {},
   "outputs": [],
   "source": [
    "# restrict by string\n",
    "subject.Subject & 'subject_nickname=\"ibl_witten_10\"'"
   ]
  },
  {
   "cell_type": "code",
   "execution_count": null,
   "metadata": {},
   "outputs": [],
   "source": [
    "# restrict by dictionary\n",
    "from uuid import UUID\n",
    "subject.Subject & {'subject_uuid': UUID('00c60db3-74c3-4ee2-9df9-2c84acf84e92')}"
   ]
  },
  {
   "cell_type": "code",
   "execution_count": null,
   "metadata": {},
   "outputs": [],
   "source": [
    "subject.Subject & {'sex': 'm'}"
   ]
  },
  {
   "cell_type": "markdown",
   "metadata": {},
   "source": [
    "### Restriction: Query subjects born after a date"
   ]
  },
  {
   "cell_type": "code",
   "execution_count": null,
   "metadata": {},
   "outputs": [],
   "source": [
    "subject.Subject & 'subject_birth_date > \"2019-01-01\"'"
   ]
  },
  {
   "cell_type": "markdown",
   "metadata": {},
   "source": [
    "### Restriction: subjects within a range of dates"
   ]
  },
  {
   "cell_type": "code",
   "execution_count": null,
   "metadata": {},
   "outputs": [],
   "source": [
    "subject.Subject & 'subject_birth_date between \"2019-01-01\" and \"2019-04-01\"'"
   ]
  },
  {
   "cell_type": "markdown",
   "metadata": {},
   "source": [
    "### Restriction: Query subjects on multiple attributes"
   ]
  },
  {
   "cell_type": "code",
   "execution_count": null,
   "metadata": {},
   "outputs": [],
   "source": [
    "subject.Subject & 'subject_birth_date > \"2019-01-01\"' & 'sex=\"M\"'"
   ]
  },
  {
   "cell_type": "markdown",
   "metadata": {},
   "source": [
    "### Restriction: Query subjects restricted by other tables"
   ]
  },
  {
   "cell_type": "code",
   "execution_count": null,
   "metadata": {},
   "outputs": [],
   "source": [
    "# subjects with Ephys recording\n",
    "subject.Subject & ephys.ProbeInsertion"
   ]
  },
  {
   "cell_type": "code",
   "execution_count": null,
   "metadata": {},
   "outputs": [],
   "source": [
    "# subjects without Ephys recording\n",
    "subject.Subject - ephys.ProbeInsertion"
   ]
  },
  {
   "cell_type": "markdown",
   "metadata": {},
   "source": [
    "## Join `*`:  gather information from different tables"
   ]
  },
  {
   "cell_type": "code",
   "execution_count": null,
   "metadata": {},
   "outputs": [],
   "source": [
    "subject.Subject * acquisition.Session"
   ]
  },
  {
   "cell_type": "markdown",
   "metadata": {},
   "source": [
    "## Projection `.proj()`: focus on attributes of interest"
   ]
  },
  {
   "cell_type": "code",
   "execution_count": null,
   "metadata": {},
   "outputs": [],
   "source": [
    "subject.Subject.proj()"
   ]
  },
  {
   "cell_type": "code",
   "execution_count": null,
   "metadata": {},
   "outputs": [],
   "source": [
    "subject.Subject.proj('subject_birth_date', 'sex')"
   ]
  },
  {
   "cell_type": "markdown",
   "metadata": {},
   "source": [
    "### rename attribute with ***proj()***"
   ]
  },
  {
   "cell_type": "code",
   "execution_count": null,
   "metadata": {},
   "outputs": [],
   "source": [
    "subject.Subject.proj('sex', dob='subject_birth_date')"
   ]
  },
  {
   "cell_type": "markdown",
   "metadata": {},
   "source": [
    "### perform simple computations with ***proj***"
   ]
  },
  {
   "cell_type": "markdown",
   "metadata": {},
   "source": [
    "**Example 1: Get date of a session:**"
   ]
  },
  {
   "cell_type": "code",
   "execution_count": null,
   "metadata": {},
   "outputs": [],
   "source": [
    "sessions_with_date = acquisition.Session.proj(session_date='date(session_start_time)')"
   ]
  },
  {
   "cell_type": "code",
   "execution_count": null,
   "metadata": {},
   "outputs": [],
   "source": [
    "sessions_with_date"
   ]
  },
  {
   "cell_type": "markdown",
   "metadata": {},
   "source": [
    "**Example 2: Age of the animal when performing each session?**"
   ]
  },
  {
   "cell_type": "code",
   "execution_count": null,
   "metadata": {},
   "outputs": [],
   "source": [
    "# First get the date of birth and the session date into the same query\n",
    "q = subject.Subject * acquisition.Session"
   ]
  },
  {
   "cell_type": "code",
   "execution_count": null,
   "metadata": {},
   "outputs": [],
   "source": [
    "q"
   ]
  },
  {
   "cell_type": "code",
   "execution_count": null,
   "metadata": {},
   "outputs": [],
   "source": [
    "# Then compute the age\n",
    "q_with_age = q.proj(age='datediff(session_start_time, subject_birth_date)')\n",
    "q_with_age"
   ]
  },
  {
   "cell_type": "markdown",
   "metadata": {},
   "source": [
    "## Aggregation `.aggr()`: simple computation of one table against another table"
   ]
  },
  {
   "cell_type": "markdown",
   "metadata": {},
   "source": [
    "Example: how many sessions does each subject do so far?"
   ]
  },
  {
   "cell_type": "code",
   "execution_count": null,
   "metadata": {},
   "outputs": [],
   "source": [
    "subject.Subject.aggr(acquisition.Session, 'subject_nickname', n='count(*)')"
   ]
  },
  {
   "cell_type": "markdown",
   "metadata": {},
   "source": [
    "# 5. Fetching data"
   ]
  },
  {
   "cell_type": "markdown",
   "metadata": {},
   "source": [
    "## Fetch all fields: `fetch()`"
   ]
  },
  {
   "cell_type": "code",
   "execution_count": null,
   "metadata": {},
   "outputs": [],
   "source": [
    "# fetch all data from a table\n",
    "subjs = subject.Subject.fetch()\n",
    "subjs"
   ]
  },
  {
   "cell_type": "code",
   "execution_count": null,
   "metadata": {},
   "outputs": [],
   "source": [
    "subjs['subject_uuid']"
   ]
  },
  {
   "cell_type": "code",
   "execution_count": null,
   "metadata": {},
   "outputs": [],
   "source": [
    "subjs['subject_birth_date']"
   ]
  },
  {
   "cell_type": "code",
   "execution_count": null,
   "metadata": {},
   "outputs": [],
   "source": [
    "# fetch as a list of dictionaries\n",
    "subjs_dict = subject.Subject.fetch(as_dict=True)\n",
    "subjs_dict"
   ]
  },
  {
   "cell_type": "code",
   "execution_count": null,
   "metadata": {},
   "outputs": [],
   "source": [
    "# fetch as pandas dataframe\n",
    "subjs_df = subject.Subject.fetch(format='frame')\n",
    "subjs_df"
   ]
  },
  {
   "cell_type": "code",
   "execution_count": null,
   "metadata": {},
   "outputs": [],
   "source": [
    "# fetch the primary key\n",
    "pk = subject.Subject.fetch('KEY')\n",
    "pk"
   ]
  },
  {
   "cell_type": "code",
   "execution_count": null,
   "metadata": {},
   "outputs": [],
   "source": [
    "# fetch specific attributes\n",
    "dob, sex = subject.Subject.fetch('subject_birth_date', 'sex')"
   ]
  },
  {
   "cell_type": "code",
   "execution_count": null,
   "metadata": {},
   "outputs": [],
   "source": [
    "dob"
   ]
  },
  {
   "cell_type": "code",
   "execution_count": null,
   "metadata": {},
   "outputs": [],
   "source": [
    "info = subject.Subject.fetch('subject_birth_date', 'sex', as_dict=True)\n",
    "info"
   ]
  },
  {
   "cell_type": "markdown",
   "metadata": {},
   "source": [
    "## fetch data only from one entry: `fetch1`"
   ]
  },
  {
   "cell_type": "code",
   "execution_count": null,
   "metadata": {},
   "outputs": [],
   "source": [
    "ibl_witten_10 = (subject.Subject & {'subject_nickname': 'ibl_witten_10'}).fetch1('KEY')  # \"fetch1()\" because we know there's only one"
   ]
  },
  {
   "cell_type": "code",
   "execution_count": null,
   "metadata": {},
   "outputs": [],
   "source": [
    "ibl_witten_10"
   ]
  },
  {
   "cell_type": "code",
   "execution_count": null,
   "metadata": {},
   "outputs": [],
   "source": [
    "IBL_10 = (subject.Subject & {'subject_nickname': 'IBL_10'}).fetch1()"
   ]
  },
  {
   "cell_type": "code",
   "execution_count": null,
   "metadata": {},
   "outputs": [],
   "source": [
    "IBL_10"
   ]
  },
  {
   "cell_type": "code",
   "execution_count": 4,
   "metadata": {},
   "outputs": [],
   "source": [
    "import datajoint as dj"
   ]
  },
  {
   "cell_type": "code",
   "execution_count": null,
   "metadata": {},
   "outputs": [],
   "source": [
    "ibl_dj = dj.create_virtual_module('ibl_dj', 'ibl')"
   ]
  }
 ],
 "metadata": {
  "kernelspec": {
   "display_name": "Python 3",
   "language": "python",
   "name": "python3"
  },
  "language_info": {
   "codemirror_mode": {
    "name": "ipython",
    "version": 3
   },
   "file_extension": ".py",
   "mimetype": "text/x-python",
   "name": "python",
   "nbconvert_exporter": "python",
   "pygments_lexer": "ipython3",
   "version": "3.6.6"
  }
 },
 "nbformat": 4,
 "nbformat_minor": 4
}
