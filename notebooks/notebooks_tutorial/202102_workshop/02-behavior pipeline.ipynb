{
 "cells": [
  {
   "cell_type": "markdown",
   "metadata": {},
   "source": [
    "This notebook walks you through the main schemas and tables of the IBL behavior pipeline, and show you how to plot psychometric curves with data from the database:\n",
    "\n",
    "1. Fetch trial data and compute psychometric function yourself\n",
    "2. Fetch the pre-computed fit results and original data and plot directly."
   ]
  },
  {
   "cell_type": "markdown",
   "metadata": {},
   "source": [
    "# Behavior tables"
   ]
  },
  {
   "cell_type": "markdown",
   "metadata": {},
   "source": [
    "Here is a list of major tables in schema `ibl_behavior`:  \n",
    "\n",
    "* TrialSet: Trial collection of a behavioral session.\n",
    "* TrialSet.Trial: data of each individual trial in a TrialSet. Contains all the information in the ALF files `trials.*`"
   ]
  },
  {
   "cell_type": "markdown",
   "metadata": {},
   "source": [
    "# Behavior analyses tables"
   ]
  },
  {
   "cell_type": "markdown",
   "metadata": {},
   "source": [
    "Here is a list of major tables in schema `ibl_analyses_behavior`:  \n",
    "\n",
    "* PsychResults: fit parameters of the entire TrialSet (Session). \n",
    "* PsychResultsBlock: fit parameters of each block with different probability left.\n",
    "* ReactionTime: median reaction time for the entire TrialSet (Session)\n",
    "* ReactionTimeContrastBlock: median reaction time as a function of contrast, for each block with different probability left.\n",
    "* BehavioralSummaryByDate: results achieved with all trials of the day\n",
    ">* PsychResults: fit parameters of each probability left. \n",
    ">* ReactionTimeContrast: For each probability left, reaction time of each contrast.\n",
    ">* ReactionTimeByDate: median reaction time of the date.\n",
    "* TrainingStatus: look up table for available status, 'untrainable', 'unbiasable', 'in_training', 'trained_1a', 'trained_1b', 'ready4ephysrig', 'ready4delay', 'ready4recording' \n",
    "* SessionTrainingStatus: training status of each session\n"
   ]
  },
  {
   "cell_type": "markdown",
   "metadata": {},
   "source": [
    "# Plot Psychometric curves"
   ]
  },
  {
   "cell_type": "markdown",
   "metadata": {},
   "source": [
    "Here we first import some modules from the ibl pipeline and some other modules"
   ]
  },
  {
   "cell_type": "code",
   "execution_count": null,
   "metadata": {},
   "outputs": [],
   "source": [
    "# behavior data\n",
    "from ibl_pipeline import behavior\n",
    "\n",
    "# analyzed result of behavioral data\n",
    "from ibl_pipeline.analyses import behavior as behavior_analyses\n",
    "\n",
    "# meta information of the subject and session\n",
    "from ibl_pipeline import subject, acquisition\n",
    "\n",
    "# Function to perform the model fits of the psychometric function\n",
    "from ibl_pipeline.utils import psychofit as psy\n",
    "\n",
    "# some regular modules\n",
    "import numpy as np\n",
    "import datetime\n",
    "import seaborn as sns \n",
    "import matplotlib.pyplot as plt"
   ]
  },
  {
   "cell_type": "code",
   "execution_count": null,
   "metadata": {},
   "outputs": [],
   "source": [
    "%matplotlib notebook"
   ]
  },
  {
   "cell_type": "markdown",
   "metadata": {},
   "source": [
    "## Fetch data from behavior.TrialSet.Trial table and compute psych curve yourself"
   ]
  },
  {
   "cell_type": "markdown",
   "metadata": {},
   "source": [
    "Let's take a quick look at the table `behavior.TrialSet`"
   ]
  },
  {
   "cell_type": "code",
   "execution_count": null,
   "metadata": {},
   "outputs": [],
   "source": [
    "behavior.TrialSet()"
   ]
  },
  {
   "cell_type": "markdown",
   "metadata": {},
   "source": [
    "The TrialSet table stores some summary statistics in one session of behavioral experiment. To also show the information of the subject, we could join the table with subject related tables."
   ]
  },
  {
   "cell_type": "code",
   "execution_count": null,
   "metadata": {},
   "outputs": [],
   "source": [
    "behavior.TrialSet * subject.Subject * subject.SubjectLab * subject.SubjectProject"
   ]
  },
  {
   "cell_type": "markdown",
   "metadata": {},
   "source": [
    "We could restrict to one session by:"
   ]
  },
  {
   "cell_type": "code",
   "execution_count": null,
   "metadata": {},
   "outputs": [],
   "source": [
    "import datetime\n",
    "q = behavior.TrialSet * subject.Subject * subject.SubjectLab * subject.SubjectProject & \\\n",
    "    'subject_nickname=\"CSHL_015\"' & {'session_start_time': datetime.datetime(2019, 9, 16, 13, 44, 46)}\n",
    "q"
   ]
  },
  {
   "cell_type": "markdown",
   "metadata": {},
   "source": [
    "The trial-by-trial information are shown in a **part table** `behavior.TrialSet.Trial`"
   ]
  },
  {
   "cell_type": "markdown",
   "metadata": {},
   "source": [
    "We could check the documentation of each of the column with `describe()`"
   ]
  },
  {
   "cell_type": "code",
   "execution_count": null,
   "metadata": {},
   "outputs": [],
   "source": [
    "behavior.TrialSet.Trial.describe();"
   ]
  },
  {
   "cell_type": "markdown",
   "metadata": {},
   "source": [
    "To fetch some part of data, we could do use the fetch method:  "
   ]
  },
  {
   "cell_type": "markdown",
   "metadata": {},
   "source": [
    "For example we would like to see the stimulus contrasts, and the animal choices in one session (that we already queried and saved the results as q), we could do:"
   ]
  },
  {
   "cell_type": "code",
   "execution_count": null,
   "metadata": {},
   "outputs": [],
   "source": [
    "# we could fetch the fields as a list of dictionary, only for the trials with a choice\n",
    "data = (behavior.TrialSet.Trial & q & 'trial_response_choice !=\"No Go\"').fetch(\n",
    "    'trial_stim_contrast_left', 'trial_stim_contrast_right', 'trial_response_choice', as_dict=True)"
   ]
  },
  {
   "cell_type": "code",
   "execution_count": null,
   "metadata": {},
   "outputs": [],
   "source": [
    "# We could then convert the data to a dataframe for further analyses\n",
    "import pandas as pd\n",
    "df = pd.DataFrame(data)\n",
    "df"
   ]
  },
  {
   "cell_type": "markdown",
   "metadata": {},
   "source": [
    "Then we can do some computation here to explore the data."
   ]
  },
  {
   "cell_type": "markdown",
   "metadata": {},
   "source": [
    "We first compute the signed contrast, so that the contrasts on the right are positive"
   ]
  },
  {
   "cell_type": "code",
   "execution_count": null,
   "metadata": {},
   "outputs": [],
   "source": [
    "df['signed_contrast'] = df['trial_stim_contrast_right'] - df['trial_stim_contrast_left']"
   ]
  },
  {
   "cell_type": "code",
   "execution_count": null,
   "metadata": {},
   "outputs": [],
   "source": [
    "df['report_right'] = df['trial_response_choice'] == \"CCW\""
   ]
  },
  {
   "cell_type": "code",
   "execution_count": null,
   "metadata": {},
   "outputs": [],
   "source": [
    "report_right = df.groupby(['signed_contrast'], as_index=False).mean()\n",
    "report_right"
   ]
  },
  {
   "cell_type": "markdown",
   "metadata": {},
   "source": [
    "Then let's plot the psychometric curve: prob_report_right vs signed_contrast:"
   ]
  },
  {
   "cell_type": "code",
   "execution_count": null,
   "metadata": {},
   "outputs": [],
   "source": [
    "plt.plot(report_right['signed_contrast'], report_right['report_right'], 'o')\n",
    "plt.xlabel('Signed Contrast')\n",
    "plt.ylabel('Probability reporting right')"
   ]
  },
  {
   "cell_type": "markdown",
   "metadata": {},
   "source": [
    "## Plot Psychometric curve with pre-computed tables"
   ]
  },
  {
   "cell_type": "markdown",
   "metadata": {},
   "source": [
    "Alternatively, we could plot the psychometric curves with results directly fetched from the pre-computed tables. The fit results of the psychometric curve are saved in the table `behavior_analyses.PsychResultsBlock`, we can browse entries in the table for a particular subject, the prob_left_block marks which prior of probability left have been used in the block"
   ]
  },
  {
   "cell_type": "code",
   "execution_count": null,
   "metadata": {},
   "outputs": [],
   "source": [
    "q = behavior_analyses.PsychResultsBlock & (subject.Subject & 'subject_nickname=\"CSHL_015\"')"
   ]
  },
  {
   "cell_type": "markdown",
   "metadata": {},
   "source": [
    "Let's check the results of sessions collected after 2019-09-15, by:"
   ]
  },
  {
   "cell_type": "code",
   "execution_count": null,
   "metadata": {},
   "outputs": [],
   "source": [
    "q & 'session_start_time > \"2019-09-15\"'"
   ]
  },
  {
   "cell_type": "markdown",
   "metadata": {},
   "source": [
    "Let's plot the psychometric curve of the last session on 9/17, containing three blocks with `prob_left` 0.2, 0.5 and 0.8"
   ]
  },
  {
   "cell_type": "code",
   "execution_count": null,
   "metadata": {},
   "outputs": [],
   "source": [
    "psych_results = q & {'session_start_time': datetime.datetime(2019, 9, 16, 13, 44, 46)}"
   ]
  },
  {
   "cell_type": "markdown",
   "metadata": {},
   "source": [
    "Now let's fetch the fit parameters and behavioral statistics from the table as a list of dictionaries."
   ]
  },
  {
   "cell_type": "code",
   "execution_count": null,
   "metadata": {},
   "outputs": [],
   "source": [
    "dict_results = psych_results.fetch(\n",
    "    'signed_contrasts', 'prob_choose_right', 'n_trials_stim', 'n_trials_stim_right',\n",
    "    'threshold', 'bias', 'lapse_low', 'lapse_high', as_dict=True)"
   ]
  },
  {
   "cell_type": "markdown",
   "metadata": {},
   "source": [
    "Next let's loop through the blocks and plot the psychometric curves:"
   ]
  },
  {
   "cell_type": "code",
   "execution_count": null,
   "metadata": {},
   "outputs": [],
   "source": [
    "import warnings\n",
    "warnings.filterwarnings('ignore')\n",
    "colors = [[1., 0., 0.], [0., 0., 0.], [0., 0., 1.]]\n",
    "\n",
    "fig, ax = plt.subplots()\n",
    "for result, color in zip(dict_results, colors):\n",
    "    pars = [result['bias'], result['threshold'], result['lapse_low'], result['lapse_high']]\n",
    "    contrasts = result['signed_contrasts'] * 100\n",
    "    contrasts_fit = np.arange(-100, 100)\n",
    "    prob_right_fit = psy.erf_psycho_2gammas(pars, contrasts_fit) *100\n",
    "    sns.lineplot(contrasts_fit, prob_right_fit, color=color, ax=ax)\n",
    "    sns.lineplot(x=contrasts, y=result['prob_choose_right']*100, err_style=\"bars\", linewidth=0, linestyle='None', mew=0.5,\n",
    "            marker='.', ci=68, color=color, ax=ax)\n",
    "\n",
    "plt.gca().set_xlabel('Signed Contrast (%)')\n",
    "plt.gca().set_ylabel('Rightward Choice (%)')\n"
   ]
  },
  {
   "cell_type": "code",
   "execution_count": null,
   "metadata": {},
   "outputs": [],
   "source": []
  }
 ],
 "metadata": {
  "kernelspec": {
   "display_name": "Python 3",
   "language": "python",
   "name": "python3"
  },
  "language_info": {
   "codemirror_mode": {
    "name": "ipython",
    "version": 3
   },
   "file_extension": ".py",
   "mimetype": "text/x-python",
   "name": "python",
   "nbconvert_exporter": "python",
   "pygments_lexer": "ipython3",
   "version": "3.7.6"
  }
 },
 "nbformat": 4,
 "nbformat_minor": 4
}
