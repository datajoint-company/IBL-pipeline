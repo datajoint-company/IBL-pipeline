{
 "cells": [
  {
   "cell_type": "code",
   "execution_count": null,
   "metadata": {},
   "outputs": [],
   "source": [
    "from ibl_pipeline.analyses import behavior as behavior_analyses\n",
    "from ibl_pipeline import behavior as behavior\n",
    "from ibl_pipeline import subject, acquisition\n",
    "from ibl_pipeline.utils import psychofit as psy\n",
    "import plotting_utils as putils\n",
    "import numpy as np\n",
    "import datetime\n",
    "import datajoint as dj\n",
    "import json\n",
    "import seaborn as sns\n",
    "import pandas as pd\n",
    "import plotly\n",
    "import plotly.graph_objs as go\n",
    "import statsmodels.stats.proportion as smp\n",
    "plotly.offline.init_notebook_mode(connected=True)\n",
    "import scipy.signal as signal"
   ]
  },
  {
   "cell_type": "code",
   "execution_count": null,
   "metadata": {},
   "outputs": [],
   "source": [
    "subj_uuid = (subject.Subject & 'subject_nickname=\"IBL-T3\"').fetch1('subject_uuid')\n",
    "subj = subject.Subject & {'subject_uuid': subj_uuid}\n",
    "key = {'subject_uuid': subj_uuid,\n",
    "   'session_date': datetime.date(2019, 4, 22)}"
   ]
  },
  {
   "cell_type": "code",
   "execution_count": null,
   "metadata": {},
   "outputs": [],
   "source": [
    "# get all trial of the day\n",
    "trial_sets = (behavior.TrialSet & \n",
    "              (behavior.CompleteTrialSession & \n",
    "               'stim_on_times_status=\"Complete\"')).proj(\n",
    "    session_date='DATE(session_start_time)')\n",
    "trials = behavior.TrialSet.Trial & (behavior.TrialSet * trial_sets & key)\n",
    "rt_trials = trials.proj(rt='trial_response_time-trial_stim_on_time').fetch(as_dict=True)\n",
    "rt_trials = pd.DataFrame(rt_trials)\n",
    "rt_trials.index = rt_trials.index + 1\n",
    "rt_rolled = rt_trials['rt'].rolling(window=10).median()\n",
    "rt_rolled = rt_rolled.where((pd.notnull(rt_rolled)), None)\n",
    "\n",
    "\n",
    "data = dict(\n",
    "    x=rt_trials.index.tolist(),\n",
    "    y=rt_trials['rt'].tolist(),\n",
    "    name='data',\n",
    "    type='scatter',\n",
    "    mode='markers',\n",
    "    marker=dict(\n",
    "        color='lightgray'\n",
    "    )\n",
    ")\n",
    "\n",
    "rolled = dict(\n",
    "    x=rt_trials.index.tolist(),\n",
    "    y=rt_rolled.values.tolist(),\n",
    "    name='rolled data',\n",
    "    type='scatter',\n",
    "    marker=dict(\n",
    "        color='black'\n",
    "    )\n",
    ")\n",
    "\n",
    "data = [data, rolled]\n",
    "\n",
    "layout = go.Layout(\n",
    "    width=630,\n",
    "    height=400,\n",
    "    title=dict(\n",
    "        text='Reaction time - trial number',\n",
    "        x=0.26,\n",
    "        y=0.85\n",
    "    ),\n",
    "    xaxis=dict(\n",
    "        title='Trial number',\n",
    "        showgrid=True\n",
    "    ), \n",
    "    yaxis=dict(\n",
    "        title='Reaction time (s)',\n",
    "        type='log',\n",
    "        range=np.log10([0.1, 100]).tolist(),\n",
    "        dtick=np.log10([0.1, 1, 10, 100]).tolist()),\n",
    "    template=dict(\n",
    "        layout=dict(\n",
    "           plot_bgcolor=\"white\"\n",
    "        ))\n",
    ")\n",
    "\n",
    "fig = go.Figure(data=data, layout=layout)\n",
    "plotly.offline.iplot(fig)"
   ]
  },
  {
   "cell_type": "code",
   "execution_count": null,
   "metadata": {},
   "outputs": [],
   "source": [
    "f = open(\"reaction_time_trial_number.json\",\"w\")\n",
    "s = json.dumps(fig.to_plotly_json())\n",
    "f.write(s)\n",
    "f.close()"
   ]
  },
  {
   "cell_type": "code",
   "execution_count": null,
   "metadata": {},
   "outputs": [],
   "source": []
  }
 ],
 "metadata": {
  "kernelspec": {
   "display_name": "Python 3",
   "language": "python",
   "name": "python3"
  },
  "language_info": {
   "codemirror_mode": {
    "name": "ipython",
    "version": 3
   },
   "file_extension": ".py",
   "mimetype": "text/x-python",
   "name": "python",
   "nbconvert_exporter": "python",
   "pygments_lexer": "ipython3",
   "version": "3.6.6"
  }
 },
 "nbformat": 4,
 "nbformat_minor": 2
}
