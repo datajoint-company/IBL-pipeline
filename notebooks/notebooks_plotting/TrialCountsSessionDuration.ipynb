{
 "cells": [
  {
   "cell_type": "code",
   "execution_count": 10,
   "metadata": {},
   "outputs": [
    {
     "data": {
      "text/html": [
       "        <script type=\"text/javascript\">\n",
       "        window.PlotlyConfig = {MathJaxConfig: 'local'};\n",
       "        if (window.MathJax) {MathJax.Hub.Config({SVG: {font: \"STIX-Web\"}});}\n",
       "        if (typeof require !== 'undefined') {\n",
       "        require.undef(\"plotly\");\n",
       "        requirejs.config({\n",
       "            paths: {\n",
       "                'plotly': ['https://cdn.plot.ly/plotly-latest.min']\n",
       "            }\n",
       "        });\n",
       "        require(['plotly'], function(Plotly) {\n",
       "            window._Plotly = Plotly;\n",
       "        });\n",
       "        }\n",
       "        </script>\n",
       "        "
      ]
     },
     "metadata": {},
     "output_type": "display_data"
    }
   ],
   "source": [
    "from ibl_pipeline.analyses import behavior as behavior_analyses\n",
    "from ibl_pipeline import behavior as behavior_ingest\n",
    "from ibl_pipeline import subject, acquisition\n",
    "from ibl_pipeline.utils import psychofit as psy\n",
    "from ibl_pipeline.plotting import plotting_utils_behavior as putils\n",
    "from uuid import UUID\n",
    "import numpy as np\n",
    "import datetime\n",
    "import datajoint as dj\n",
    "import json\n",
    "import seaborn as sns\n",
    "import pandas as pd\n",
    "import plotly\n",
    "import plotly.graph_objs as go\n",
    "import statsmodels.stats.proportion as smp\n",
    "plotly.offline.init_notebook_mode(connected=True)\n",
    "public = False"
   ]
  },
  {
   "cell_type": "code",
   "execution_count": 21,
   "metadata": {},
   "outputs": [],
   "source": [
    "subj = subject.Subject & {'subject_nickname': 'KS019'}\n",
    "# get the first date when animal became \"trained\" and \"ready for ephys\"\n",
    "status = putils.get_status(subj)\n",
    "# get date range and mondays\n",
    "d = putils.get_date_range(subj)\n",
    "\n",
    "if d['seven_months_date']:\n",
    "    status['is_over_seven_months'] = True\n",
    "    status['seven_months_date'] = d['seven_months_date'].strftime('%Y-%m-%d')\n",
    "else:\n",
    "    status['is_over_seven_months'] = False"
   ]
  },
  {
   "cell_type": "code",
   "execution_count": 19,
   "metadata": {},
   "outputs": [
    {
     "data": {
      "application/vnd.plotly.v1+json": {
       "config": {
        "linkText": "Export to plot.ly",
        "plotlyServerURL": "https://plot.ly",
        "showLink": false
       },
       "data": [
        {
         "marker": {
          "color": "black",
          "line": {
           "color": "white",
           "width": 1
          },
          "size": 6
         },
         "mode": "markers+lines",
         "name": "trial counts",
         "showlegend": false,
         "type": "scatter",
         "x": [
          "2019-08-10",
          "2019-08-12",
          "2019-08-13",
          "2019-08-14",
          "2019-08-14",
          "2019-08-15",
          "2019-08-16",
          "2019-08-19",
          "2019-08-20",
          "2019-08-21",
          "2019-08-22",
          "2019-08-23",
          "2019-08-26",
          "2019-08-27",
          "2019-08-28",
          "2019-08-29",
          "2019-08-30",
          "2019-08-31",
          "2019-09-10",
          "2019-09-11",
          "2019-09-12",
          "2019-09-13",
          "2019-09-16",
          "2019-09-17",
          "2019-09-18",
          "2019-09-19",
          "2019-09-20",
          "2019-09-23",
          "2019-09-24",
          "2019-09-25",
          "2019-09-26",
          "2019-09-27",
          "2019-09-30",
          "2019-10-01",
          "2019-10-04",
          "2019-10-07",
          "2019-10-08",
          "2019-10-10",
          "2019-10-11",
          "2019-10-14",
          "2019-10-15",
          "2019-10-17",
          "2019-10-18",
          "2019-10-21",
          "2019-10-22",
          "2019-10-24",
          "2019-10-25",
          "2019-10-29",
          "2019-10-29",
          "2019-10-31",
          "2019-11-01",
          "2019-11-04",
          "2019-11-05",
          "2019-11-07",
          "2019-11-11",
          "2019-11-12",
          "2019-11-14",
          "2019-11-15",
          "2019-11-18",
          "2019-11-19",
          "2019-11-21",
          "2019-11-22",
          "2019-11-25",
          "2019-11-26",
          "2019-11-27",
          "2019-11-28",
          "2019-11-29",
          "2019-12-02",
          "2019-12-05",
          "2019-12-09",
          "2019-12-10",
          "2019-12-12",
          "2019-12-13",
          "2020-01-06",
          "2020-01-07",
          "2020-01-09",
          "2020-01-10",
          "2020-01-13",
          "2020-01-14",
          "2020-01-16",
          "2020-01-17",
          "2020-01-20",
          "2020-01-21",
          "2020-01-22",
          "2020-01-23",
          "2020-01-24",
          "2020-01-27",
          "2020-01-28",
          "2020-02-18",
          "2020-02-19",
          "2020-02-21",
          "2020-02-24",
          "2020-02-25",
          "2020-02-27",
          "2020-03-02",
          "2020-03-04",
          "2020-03-05"
         ],
         "y": [
          196,
          140,
          223,
          55,
          289,
          141,
          340,
          224,
          252,
          269,
          640,
          521,
          807,
          869,
          743,
          683,
          799,
          759,
          462,
          717,
          972,
          349,
          659,
          1011,
          1145,
          914,
          1053,
          1087,
          929,
          999,
          1215,
          941,
          983,
          967,
          859,
          992,
          1043,
          1134,
          1190,
          941,
          755,
          1028,
          959,
          985,
          1039,
          1075,
          1174,
          57,
          974,
          1232,
          873,
          1175,
          1041,
          1087,
          659,
          642,
          421,
          429,
          763,
          530,
          932,
          819,
          994,
          516,
          916,
          860,
          709,
          909,
          811,
          864,
          864,
          984,
          811,
          683,
          577,
          442,
          402,
          505,
          416,
          512,
          718,
          704,
          642,
          611,
          467,
          312,
          191,
          643,
          481,
          616,
          789,
          599,
          371,
          524,
          640,
          195,
          225
         ],
         "yaxis": "y"
        },
        {
         "marker": {
          "color": "red",
          "line": {
           "color": "white",
           "width": 1
          },
          "size": 6
         },
         "mode": "markers+lines",
         "name": "session duration",
         "showlegend": false,
         "type": "scatter",
         "x": [
          "2019-08-10",
          "2019-08-12",
          "2019-08-13",
          "2019-08-14",
          "2019-08-14",
          "2019-08-15",
          "2019-08-16",
          "2019-08-19",
          "2019-08-20",
          "2019-08-21",
          "2019-08-22",
          "2019-08-23",
          "2019-08-26",
          "2019-08-27",
          "2019-08-28",
          "2019-08-29",
          "2019-08-30",
          "2019-08-31",
          "2019-09-10",
          "2019-09-11",
          "2019-09-12",
          "2019-09-13",
          "2019-09-16",
          "2019-09-17",
          "2019-09-18",
          "2019-09-19",
          "2019-09-20",
          "2019-09-23",
          "2019-09-24",
          "2019-09-25",
          "2019-09-26",
          "2019-09-27",
          "2019-09-30",
          "2019-10-01",
          "2019-10-04",
          "2019-10-07",
          "2019-10-08",
          "2019-10-10",
          "2019-10-11",
          "2019-10-14",
          "2019-10-15",
          "2019-10-17",
          "2019-10-18",
          "2019-10-21",
          "2019-10-22",
          "2019-10-24",
          "2019-10-25",
          "2019-10-29",
          "2019-10-29",
          "2019-10-31",
          "2019-11-01",
          "2019-11-04",
          "2019-11-05",
          "2019-11-07",
          "2019-11-11",
          "2019-11-12",
          "2019-11-14",
          "2019-11-15",
          "2019-11-18",
          "2019-11-19",
          "2019-11-21",
          "2019-11-22",
          "2019-11-25",
          "2019-11-26",
          "2019-11-27",
          "2019-11-28",
          "2019-11-29",
          "2019-12-02",
          "2019-12-05",
          "2019-12-09",
          "2019-12-10",
          "2019-12-12",
          "2019-12-13",
          "2020-01-06",
          "2020-01-07",
          "2020-01-09",
          "2020-01-10",
          "2020-01-13",
          "2020-01-14",
          "2020-01-16",
          "2020-01-17",
          "2020-01-20",
          "2020-01-21",
          "2020-01-22",
          "2020-01-23",
          "2020-01-24",
          "2020-01-27",
          "2020-01-28",
          "2020-02-18",
          "2020-02-19",
          "2020-02-21",
          "2020-02-24",
          "2020-02-25",
          "2020-02-27",
          "2020-03-02",
          "2020-03-04",
          "2020-03-05"
         ],
         "y": [
          46,
          46,
          54,
          21,
          45,
          45,
          44,
          44,
          48,
          45,
          77,
          53,
          73,
          79,
          61,
          59,
          69,
          63,
          43,
          61,
          81,
          44,
          50,
          89,
          92,
          78,
          89,
          89,
          72,
          78,
          91,
          66,
          79,
          78,
          65,
          75,
          84,
          85,
          90,
          78,
          60,
          87,
          77,
          79,
          82,
          77,
          88,
          4,
          82,
          90,
          64,
          86,
          76,
          77,
          59,
          47,
          38,
          31,
          55,
          38,
          68,
          58,
          69,
          34,
          64,
          58,
          54,
          62,
          56,
          62,
          68,
          77,
          69,
          75,
          46,
          37,
          37,
          45,
          36,
          38,
          59,
          67,
          68,
          61,
          47,
          45,
          44,
          62,
          55,
          62,
          89,
          68,
          44,
          51,
          79,
          30,
          43
         ],
         "yaxis": "y2"
        },
        {
         "hoverinfo": "skip",
         "legendgroup": "monday",
         "line": {
          "color": "gray",
          "dash": "dot",
          "width": 0.5
         },
         "mode": "lines",
         "name": "Mondays",
         "showlegend": true,
         "type": "scatter",
         "x": [
          "2019-07-29",
          "2019-07-29"
         ],
         "xaxis": "x",
         "y": [
          0,
          1282
         ],
         "yaxis": "y"
        },
        {
         "hoverinfo": "skip",
         "legendgroup": "monday",
         "line": {
          "color": "gray",
          "dash": "dot",
          "width": 0.5
         },
         "mode": "lines",
         "name": "Mondays",
         "showlegend": false,
         "type": "scatter",
         "x": [
          "2019-08-05",
          "2019-08-05"
         ],
         "xaxis": "x",
         "y": [
          0,
          1282
         ],
         "yaxis": "y"
        },
        {
         "hoverinfo": "skip",
         "legendgroup": "monday",
         "line": {
          "color": "gray",
          "dash": "dot",
          "width": 0.5
         },
         "mode": "lines",
         "name": "Mondays",
         "showlegend": false,
         "type": "scatter",
         "x": [
          "2019-08-12",
          "2019-08-12"
         ],
         "xaxis": "x",
         "y": [
          0,
          1282
         ],
         "yaxis": "y"
        },
        {
         "hoverinfo": "skip",
         "legendgroup": "monday",
         "line": {
          "color": "gray",
          "dash": "dot",
          "width": 0.5
         },
         "mode": "lines",
         "name": "Mondays",
         "showlegend": false,
         "type": "scatter",
         "x": [
          "2019-08-19",
          "2019-08-19"
         ],
         "xaxis": "x",
         "y": [
          0,
          1282
         ],
         "yaxis": "y"
        },
        {
         "hoverinfo": "skip",
         "legendgroup": "monday",
         "line": {
          "color": "gray",
          "dash": "dot",
          "width": 0.5
         },
         "mode": "lines",
         "name": "Mondays",
         "showlegend": false,
         "type": "scatter",
         "x": [
          "2019-08-26",
          "2019-08-26"
         ],
         "xaxis": "x",
         "y": [
          0,
          1282
         ],
         "yaxis": "y"
        },
        {
         "hoverinfo": "skip",
         "legendgroup": "monday",
         "line": {
          "color": "gray",
          "dash": "dot",
          "width": 0.5
         },
         "mode": "lines",
         "name": "Mondays",
         "showlegend": false,
         "type": "scatter",
         "x": [
          "2019-09-02",
          "2019-09-02"
         ],
         "xaxis": "x",
         "y": [
          0,
          1282
         ],
         "yaxis": "y"
        },
        {
         "hoverinfo": "skip",
         "legendgroup": "monday",
         "line": {
          "color": "gray",
          "dash": "dot",
          "width": 0.5
         },
         "mode": "lines",
         "name": "Mondays",
         "showlegend": false,
         "type": "scatter",
         "x": [
          "2019-09-09",
          "2019-09-09"
         ],
         "xaxis": "x",
         "y": [
          0,
          1282
         ],
         "yaxis": "y"
        },
        {
         "hoverinfo": "skip",
         "legendgroup": "monday",
         "line": {
          "color": "gray",
          "dash": "dot",
          "width": 0.5
         },
         "mode": "lines",
         "name": "Mondays",
         "showlegend": false,
         "type": "scatter",
         "x": [
          "2019-09-16",
          "2019-09-16"
         ],
         "xaxis": "x",
         "y": [
          0,
          1282
         ],
         "yaxis": "y"
        },
        {
         "hoverinfo": "skip",
         "legendgroup": "monday",
         "line": {
          "color": "gray",
          "dash": "dot",
          "width": 0.5
         },
         "mode": "lines",
         "name": "Mondays",
         "showlegend": false,
         "type": "scatter",
         "x": [
          "2019-09-23",
          "2019-09-23"
         ],
         "xaxis": "x",
         "y": [
          0,
          1282
         ],
         "yaxis": "y"
        },
        {
         "hoverinfo": "skip",
         "legendgroup": "monday",
         "line": {
          "color": "gray",
          "dash": "dot",
          "width": 0.5
         },
         "mode": "lines",
         "name": "Mondays",
         "showlegend": false,
         "type": "scatter",
         "x": [
          "2019-09-30",
          "2019-09-30"
         ],
         "xaxis": "x",
         "y": [
          0,
          1282
         ],
         "yaxis": "y"
        },
        {
         "hoverinfo": "skip",
         "legendgroup": "monday",
         "line": {
          "color": "gray",
          "dash": "dot",
          "width": 0.5
         },
         "mode": "lines",
         "name": "Mondays",
         "showlegend": false,
         "type": "scatter",
         "x": [
          "2019-10-07",
          "2019-10-07"
         ],
         "xaxis": "x",
         "y": [
          0,
          1282
         ],
         "yaxis": "y"
        },
        {
         "hoverinfo": "skip",
         "legendgroup": "monday",
         "line": {
          "color": "gray",
          "dash": "dot",
          "width": 0.5
         },
         "mode": "lines",
         "name": "Mondays",
         "showlegend": false,
         "type": "scatter",
         "x": [
          "2019-10-14",
          "2019-10-14"
         ],
         "xaxis": "x",
         "y": [
          0,
          1282
         ],
         "yaxis": "y"
        },
        {
         "hoverinfo": "skip",
         "legendgroup": "monday",
         "line": {
          "color": "gray",
          "dash": "dot",
          "width": 0.5
         },
         "mode": "lines",
         "name": "Mondays",
         "showlegend": false,
         "type": "scatter",
         "x": [
          "2019-10-21",
          "2019-10-21"
         ],
         "xaxis": "x",
         "y": [
          0,
          1282
         ],
         "yaxis": "y"
        },
        {
         "hoverinfo": "skip",
         "legendgroup": "monday",
         "line": {
          "color": "gray",
          "dash": "dot",
          "width": 0.5
         },
         "mode": "lines",
         "name": "Mondays",
         "showlegend": false,
         "type": "scatter",
         "x": [
          "2019-10-28",
          "2019-10-28"
         ],
         "xaxis": "x",
         "y": [
          0,
          1282
         ],
         "yaxis": "y"
        },
        {
         "hoverinfo": "skip",
         "legendgroup": "monday",
         "line": {
          "color": "gray",
          "dash": "dot",
          "width": 0.5
         },
         "mode": "lines",
         "name": "Mondays",
         "showlegend": false,
         "type": "scatter",
         "x": [
          "2019-11-04",
          "2019-11-04"
         ],
         "xaxis": "x",
         "y": [
          0,
          1282
         ],
         "yaxis": "y"
        },
        {
         "hoverinfo": "skip",
         "legendgroup": "monday",
         "line": {
          "color": "gray",
          "dash": "dot",
          "width": 0.5
         },
         "mode": "lines",
         "name": "Mondays",
         "showlegend": false,
         "type": "scatter",
         "x": [
          "2019-11-11",
          "2019-11-11"
         ],
         "xaxis": "x",
         "y": [
          0,
          1282
         ],
         "yaxis": "y"
        },
        {
         "hoverinfo": "skip",
         "legendgroup": "monday",
         "line": {
          "color": "gray",
          "dash": "dot",
          "width": 0.5
         },
         "mode": "lines",
         "name": "Mondays",
         "showlegend": false,
         "type": "scatter",
         "x": [
          "2019-11-18",
          "2019-11-18"
         ],
         "xaxis": "x",
         "y": [
          0,
          1282
         ],
         "yaxis": "y"
        },
        {
         "hoverinfo": "skip",
         "legendgroup": "monday",
         "line": {
          "color": "gray",
          "dash": "dot",
          "width": 0.5
         },
         "mode": "lines",
         "name": "Mondays",
         "showlegend": false,
         "type": "scatter",
         "x": [
          "2019-11-25",
          "2019-11-25"
         ],
         "xaxis": "x",
         "y": [
          0,
          1282
         ],
         "yaxis": "y"
        },
        {
         "hoverinfo": "skip",
         "legendgroup": "monday",
         "line": {
          "color": "gray",
          "dash": "dot",
          "width": 0.5
         },
         "mode": "lines",
         "name": "Mondays",
         "showlegend": false,
         "type": "scatter",
         "x": [
          "2019-12-02",
          "2019-12-02"
         ],
         "xaxis": "x",
         "y": [
          0,
          1282
         ],
         "yaxis": "y"
        },
        {
         "hoverinfo": "skip",
         "legendgroup": "monday",
         "line": {
          "color": "gray",
          "dash": "dot",
          "width": 0.5
         },
         "mode": "lines",
         "name": "Mondays",
         "showlegend": false,
         "type": "scatter",
         "x": [
          "2019-12-09",
          "2019-12-09"
         ],
         "xaxis": "x",
         "y": [
          0,
          1282
         ],
         "yaxis": "y"
        },
        {
         "hoverinfo": "skip",
         "legendgroup": "monday",
         "line": {
          "color": "gray",
          "dash": "dot",
          "width": 0.5
         },
         "mode": "lines",
         "name": "Mondays",
         "showlegend": false,
         "type": "scatter",
         "x": [
          "2019-12-16",
          "2019-12-16"
         ],
         "xaxis": "x",
         "y": [
          0,
          1282
         ],
         "yaxis": "y"
        },
        {
         "hoverinfo": "skip",
         "legendgroup": "monday",
         "line": {
          "color": "gray",
          "dash": "dot",
          "width": 0.5
         },
         "mode": "lines",
         "name": "Mondays",
         "showlegend": false,
         "type": "scatter",
         "x": [
          "2019-12-23",
          "2019-12-23"
         ],
         "xaxis": "x",
         "y": [
          0,
          1282
         ],
         "yaxis": "y"
        },
        {
         "hoverinfo": "skip",
         "legendgroup": "monday",
         "line": {
          "color": "gray",
          "dash": "dot",
          "width": 0.5
         },
         "mode": "lines",
         "name": "Mondays",
         "showlegend": false,
         "type": "scatter",
         "x": [
          "2019-12-30",
          "2019-12-30"
         ],
         "xaxis": "x",
         "y": [
          0,
          1282
         ],
         "yaxis": "y"
        },
        {
         "hoverinfo": "skip",
         "legendgroup": "monday",
         "line": {
          "color": "gray",
          "dash": "dot",
          "width": 0.5
         },
         "mode": "lines",
         "name": "Mondays",
         "showlegend": false,
         "type": "scatter",
         "x": [
          "2020-01-06",
          "2020-01-06"
         ],
         "xaxis": "x",
         "y": [
          0,
          1282
         ],
         "yaxis": "y"
        },
        {
         "hoverinfo": "skip",
         "legendgroup": "monday",
         "line": {
          "color": "gray",
          "dash": "dot",
          "width": 0.5
         },
         "mode": "lines",
         "name": "Mondays",
         "showlegend": false,
         "type": "scatter",
         "x": [
          "2020-01-13",
          "2020-01-13"
         ],
         "xaxis": "x",
         "y": [
          0,
          1282
         ],
         "yaxis": "y"
        },
        {
         "hoverinfo": "skip",
         "legendgroup": "monday",
         "line": {
          "color": "gray",
          "dash": "dot",
          "width": 0.5
         },
         "mode": "lines",
         "name": "Mondays",
         "showlegend": false,
         "type": "scatter",
         "x": [
          "2020-01-20",
          "2020-01-20"
         ],
         "xaxis": "x",
         "y": [
          0,
          1282
         ],
         "yaxis": "y"
        },
        {
         "hoverinfo": "skip",
         "legendgroup": "monday",
         "line": {
          "color": "gray",
          "dash": "dot",
          "width": 0.5
         },
         "mode": "lines",
         "name": "Mondays",
         "showlegend": false,
         "type": "scatter",
         "x": [
          "2020-01-27",
          "2020-01-27"
         ],
         "xaxis": "x",
         "y": [
          0,
          1282
         ],
         "yaxis": "y"
        },
        {
         "hoverinfo": "skip",
         "legendgroup": "monday",
         "line": {
          "color": "gray",
          "dash": "dot",
          "width": 0.5
         },
         "mode": "lines",
         "name": "Mondays",
         "showlegend": false,
         "type": "scatter",
         "x": [
          "2020-02-03",
          "2020-02-03"
         ],
         "xaxis": "x",
         "y": [
          0,
          1282
         ],
         "yaxis": "y"
        },
        {
         "hoverinfo": "skip",
         "legendgroup": "monday",
         "line": {
          "color": "gray",
          "dash": "dot",
          "width": 0.5
         },
         "mode": "lines",
         "name": "Mondays",
         "showlegend": false,
         "type": "scatter",
         "x": [
          "2020-02-10",
          "2020-02-10"
         ],
         "xaxis": "x",
         "y": [
          0,
          1282
         ],
         "yaxis": "y"
        },
        {
         "hoverinfo": "skip",
         "legendgroup": "monday",
         "line": {
          "color": "gray",
          "dash": "dot",
          "width": 0.5
         },
         "mode": "lines",
         "name": "Mondays",
         "showlegend": false,
         "type": "scatter",
         "x": [
          "2020-02-17",
          "2020-02-17"
         ],
         "xaxis": "x",
         "y": [
          0,
          1282
         ],
         "yaxis": "y"
        },
        {
         "hoverinfo": "skip",
         "legendgroup": "monday",
         "line": {
          "color": "gray",
          "dash": "dot",
          "width": 0.5
         },
         "mode": "lines",
         "name": "Mondays",
         "showlegend": false,
         "type": "scatter",
         "x": [
          "2020-02-24",
          "2020-02-24"
         ],
         "xaxis": "x",
         "y": [
          0,
          1282
         ],
         "yaxis": "y"
        },
        {
         "hoverinfo": "skip",
         "legendgroup": "monday",
         "line": {
          "color": "gray",
          "dash": "dot",
          "width": 0.5
         },
         "mode": "lines",
         "name": "Mondays",
         "showlegend": false,
         "type": "scatter",
         "x": [
          "2020-03-02",
          "2020-03-02"
         ],
         "xaxis": "x",
         "y": [
          0,
          1282
         ],
         "yaxis": "y"
        },
        {
         "hoverinfo": "x",
         "marker": {
          "color": "rgba(195, 90, 80, 1)"
         },
         "mode": "lines",
         "name": "first day got trained 1a",
         "showlegend": true,
         "type": "scatter",
         "x": [
          "2019-09-19",
          "2019-09-19"
         ],
         "xaxis": "x",
         "y": [
          0,
          1282
         ],
         "yaxis": "y"
        },
        {
         "hoverinfo": "x",
         "marker": {
          "color": "rgba(255, 153, 20, 1)"
         },
         "mode": "lines",
         "name": "first day got trained 1b",
         "showlegend": true,
         "type": "scatter",
         "x": [
          "2019-09-25",
          "2019-09-25"
         ],
         "xaxis": "x",
         "y": [
          0,
          1282
         ],
         "yaxis": "y"
        },
        {
         "hoverinfo": "x",
         "marker": {
          "color": "rgba(0, 0, 0, 1)"
         },
         "mode": "lines",
         "name": "mouse became seven months",
         "showlegend": true,
         "type": "scatter",
         "x": [
          "2020-01-14",
          "2020-01-14"
         ],
         "xaxis": "x",
         "y": [
          0,
          1282
         ],
         "yaxis": "y"
        },
        {
         "hoverinfo": "x",
         "line": {
          "color": "rgba(5, 142, 255, 1)",
          "dash": "dashdot",
          "width": 2
         },
         "mode": "lines",
         "name": "good enough for brainwide map",
         "showlegend": true,
         "type": "scatter",
         "x": [
          "2019-09-19",
          "2019-09-19"
         ],
         "xaxis": "x",
         "y": [
          0,
          1282
         ],
         "yaxis": "y"
        }
       ],
       "layout": {
        "height": 400,
        "legend": {
         "orientation": "v",
         "x": 1.2,
         "y": 0.8
        },
        "template": {
         "layout": {
          "plot_bgcolor": "white"
         }
        },
        "title": {
         "text": "Trial counts and session duration",
         "x": 0.18,
         "y": 0.85
        },
        "width": 700,
        "xaxis": {
         "range": [
          "2019-07-25",
          "2020-03-08"
         ],
         "showgrid": false,
         "title": {
          "text": "Date"
         }
        },
        "yaxis": {
         "range": [
          0,
          1282
         ],
         "title": {
          "text": "Trial counts"
         }
        },
        "yaxis2": {
         "color": "red",
         "overlaying": "y",
         "side": "right",
         "title": {
          "text": "Session duration (mins)"
         }
        }
       }
      },
      "text/html": [
       "<div>\n",
       "        \n",
       "        \n",
       "            <div id=\"97ba2fe9-6c1b-4c1c-8bb1-d8596d192587\" class=\"plotly-graph-div\" style=\"height:400px; width:700px;\"></div>\n",
       "            <script type=\"text/javascript\">\n",
       "                require([\"plotly\"], function(Plotly) {\n",
       "                    window.PLOTLYENV=window.PLOTLYENV || {};\n",
       "                    \n",
       "                if (document.getElementById(\"97ba2fe9-6c1b-4c1c-8bb1-d8596d192587\")) {\n",
       "                    Plotly.newPlot(\n",
       "                        '97ba2fe9-6c1b-4c1c-8bb1-d8596d192587',\n",
       "                        [{\"marker\": {\"color\": \"black\", \"line\": {\"color\": \"white\", \"width\": 1}, \"size\": 6}, \"mode\": \"markers+lines\", \"name\": \"trial counts\", \"showlegend\": false, \"type\": \"scatter\", \"x\": [\"2019-08-10\", \"2019-08-12\", \"2019-08-13\", \"2019-08-14\", \"2019-08-14\", \"2019-08-15\", \"2019-08-16\", \"2019-08-19\", \"2019-08-20\", \"2019-08-21\", \"2019-08-22\", \"2019-08-23\", \"2019-08-26\", \"2019-08-27\", \"2019-08-28\", \"2019-08-29\", \"2019-08-30\", \"2019-08-31\", \"2019-09-10\", \"2019-09-11\", \"2019-09-12\", \"2019-09-13\", \"2019-09-16\", \"2019-09-17\", \"2019-09-18\", \"2019-09-19\", \"2019-09-20\", \"2019-09-23\", \"2019-09-24\", \"2019-09-25\", \"2019-09-26\", \"2019-09-27\", \"2019-09-30\", \"2019-10-01\", \"2019-10-04\", \"2019-10-07\", \"2019-10-08\", \"2019-10-10\", \"2019-10-11\", \"2019-10-14\", \"2019-10-15\", \"2019-10-17\", \"2019-10-18\", \"2019-10-21\", \"2019-10-22\", \"2019-10-24\", \"2019-10-25\", \"2019-10-29\", \"2019-10-29\", \"2019-10-31\", \"2019-11-01\", \"2019-11-04\", \"2019-11-05\", \"2019-11-07\", \"2019-11-11\", \"2019-11-12\", \"2019-11-14\", \"2019-11-15\", \"2019-11-18\", \"2019-11-19\", \"2019-11-21\", \"2019-11-22\", \"2019-11-25\", \"2019-11-26\", \"2019-11-27\", \"2019-11-28\", \"2019-11-29\", \"2019-12-02\", \"2019-12-05\", \"2019-12-09\", \"2019-12-10\", \"2019-12-12\", \"2019-12-13\", \"2020-01-06\", \"2020-01-07\", \"2020-01-09\", \"2020-01-10\", \"2020-01-13\", \"2020-01-14\", \"2020-01-16\", \"2020-01-17\", \"2020-01-20\", \"2020-01-21\", \"2020-01-22\", \"2020-01-23\", \"2020-01-24\", \"2020-01-27\", \"2020-01-28\", \"2020-02-18\", \"2020-02-19\", \"2020-02-21\", \"2020-02-24\", \"2020-02-25\", \"2020-02-27\", \"2020-03-02\", \"2020-03-04\", \"2020-03-05\"], \"y\": [196, 140, 223, 55, 289, 141, 340, 224, 252, 269, 640, 521, 807, 869, 743, 683, 799, 759, 462, 717, 972, 349, 659, 1011, 1145, 914, 1053, 1087, 929, 999, 1215, 941, 983, 967, 859, 992, 1043, 1134, 1190, 941, 755, 1028, 959, 985, 1039, 1075, 1174, 57, 974, 1232, 873, 1175, 1041, 1087, 659, 642, 421, 429, 763, 530, 932, 819, 994, 516, 916, 860, 709, 909, 811, 864, 864, 984, 811, 683, 577, 442, 402, 505, 416, 512, 718, 704, 642, 611, 467, 312, 191, 643, 481, 616, 789, 599, 371, 524, 640, 195, 225], \"yaxis\": \"y\"}, {\"marker\": {\"color\": \"red\", \"line\": {\"color\": \"white\", \"width\": 1}, \"size\": 6}, \"mode\": \"markers+lines\", \"name\": \"session duration\", \"showlegend\": false, \"type\": \"scatter\", \"x\": [\"2019-08-10\", \"2019-08-12\", \"2019-08-13\", \"2019-08-14\", \"2019-08-14\", \"2019-08-15\", \"2019-08-16\", \"2019-08-19\", \"2019-08-20\", \"2019-08-21\", \"2019-08-22\", \"2019-08-23\", \"2019-08-26\", \"2019-08-27\", \"2019-08-28\", \"2019-08-29\", \"2019-08-30\", \"2019-08-31\", \"2019-09-10\", \"2019-09-11\", \"2019-09-12\", \"2019-09-13\", \"2019-09-16\", \"2019-09-17\", \"2019-09-18\", \"2019-09-19\", \"2019-09-20\", \"2019-09-23\", \"2019-09-24\", \"2019-09-25\", \"2019-09-26\", \"2019-09-27\", \"2019-09-30\", \"2019-10-01\", \"2019-10-04\", \"2019-10-07\", \"2019-10-08\", \"2019-10-10\", \"2019-10-11\", \"2019-10-14\", \"2019-10-15\", \"2019-10-17\", \"2019-10-18\", \"2019-10-21\", \"2019-10-22\", \"2019-10-24\", \"2019-10-25\", \"2019-10-29\", \"2019-10-29\", \"2019-10-31\", \"2019-11-01\", \"2019-11-04\", \"2019-11-05\", \"2019-11-07\", \"2019-11-11\", \"2019-11-12\", \"2019-11-14\", \"2019-11-15\", \"2019-11-18\", \"2019-11-19\", \"2019-11-21\", \"2019-11-22\", \"2019-11-25\", \"2019-11-26\", \"2019-11-27\", \"2019-11-28\", \"2019-11-29\", \"2019-12-02\", \"2019-12-05\", \"2019-12-09\", \"2019-12-10\", \"2019-12-12\", \"2019-12-13\", \"2020-01-06\", \"2020-01-07\", \"2020-01-09\", \"2020-01-10\", \"2020-01-13\", \"2020-01-14\", \"2020-01-16\", \"2020-01-17\", \"2020-01-20\", \"2020-01-21\", \"2020-01-22\", \"2020-01-23\", \"2020-01-24\", \"2020-01-27\", \"2020-01-28\", \"2020-02-18\", \"2020-02-19\", \"2020-02-21\", \"2020-02-24\", \"2020-02-25\", \"2020-02-27\", \"2020-03-02\", \"2020-03-04\", \"2020-03-05\"], \"y\": [46, 46, 54, 21, 45, 45, 44, 44, 48, 45, 77, 53, 73, 79, 61, 59, 69, 63, 43, 61, 81, 44, 50, 89, 92, 78, 89, 89, 72, 78, 91, 66, 79, 78, 65, 75, 84, 85, 90, 78, 60, 87, 77, 79, 82, 77, 88, 4, 82, 90, 64, 86, 76, 77, 59, 47, 38, 31, 55, 38, 68, 58, 69, 34, 64, 58, 54, 62, 56, 62, 68, 77, 69, 75, 46, 37, 37, 45, 36, 38, 59, 67, 68, 61, 47, 45, 44, 62, 55, 62, 89, 68, 44, 51, 79, 30, 43], \"yaxis\": \"y2\"}, {\"hoverinfo\": \"skip\", \"legendgroup\": \"monday\", \"line\": {\"color\": \"gray\", \"dash\": \"dot\", \"width\": 0.5}, \"mode\": \"lines\", \"name\": \"Mondays\", \"showlegend\": true, \"type\": \"scatter\", \"x\": [\"2019-07-29\", \"2019-07-29\"], \"xaxis\": \"x\", \"y\": [0, 1282], \"yaxis\": \"y\"}, {\"hoverinfo\": \"skip\", \"legendgroup\": \"monday\", \"line\": {\"color\": \"gray\", \"dash\": \"dot\", \"width\": 0.5}, \"mode\": \"lines\", \"name\": \"Mondays\", \"showlegend\": false, \"type\": \"scatter\", \"x\": [\"2019-08-05\", \"2019-08-05\"], \"xaxis\": \"x\", \"y\": [0, 1282], \"yaxis\": \"y\"}, {\"hoverinfo\": \"skip\", \"legendgroup\": \"monday\", \"line\": {\"color\": \"gray\", \"dash\": \"dot\", \"width\": 0.5}, \"mode\": \"lines\", \"name\": \"Mondays\", \"showlegend\": false, \"type\": \"scatter\", \"x\": [\"2019-08-12\", \"2019-08-12\"], \"xaxis\": \"x\", \"y\": [0, 1282], \"yaxis\": \"y\"}, {\"hoverinfo\": \"skip\", \"legendgroup\": \"monday\", \"line\": {\"color\": \"gray\", \"dash\": \"dot\", \"width\": 0.5}, \"mode\": \"lines\", \"name\": \"Mondays\", \"showlegend\": false, \"type\": \"scatter\", \"x\": [\"2019-08-19\", \"2019-08-19\"], \"xaxis\": \"x\", \"y\": [0, 1282], \"yaxis\": \"y\"}, {\"hoverinfo\": \"skip\", \"legendgroup\": \"monday\", \"line\": {\"color\": \"gray\", \"dash\": \"dot\", \"width\": 0.5}, \"mode\": \"lines\", \"name\": \"Mondays\", \"showlegend\": false, \"type\": \"scatter\", \"x\": [\"2019-08-26\", \"2019-08-26\"], \"xaxis\": \"x\", \"y\": [0, 1282], \"yaxis\": \"y\"}, {\"hoverinfo\": \"skip\", \"legendgroup\": \"monday\", \"line\": {\"color\": \"gray\", \"dash\": \"dot\", \"width\": 0.5}, \"mode\": \"lines\", \"name\": \"Mondays\", \"showlegend\": false, \"type\": \"scatter\", \"x\": [\"2019-09-02\", \"2019-09-02\"], \"xaxis\": \"x\", \"y\": [0, 1282], \"yaxis\": \"y\"}, {\"hoverinfo\": \"skip\", \"legendgroup\": \"monday\", \"line\": {\"color\": \"gray\", \"dash\": \"dot\", \"width\": 0.5}, \"mode\": \"lines\", \"name\": \"Mondays\", \"showlegend\": false, \"type\": \"scatter\", \"x\": [\"2019-09-09\", \"2019-09-09\"], \"xaxis\": \"x\", \"y\": [0, 1282], \"yaxis\": \"y\"}, {\"hoverinfo\": \"skip\", \"legendgroup\": \"monday\", \"line\": {\"color\": \"gray\", \"dash\": \"dot\", \"width\": 0.5}, \"mode\": \"lines\", \"name\": \"Mondays\", \"showlegend\": false, \"type\": \"scatter\", \"x\": [\"2019-09-16\", \"2019-09-16\"], \"xaxis\": \"x\", \"y\": [0, 1282], \"yaxis\": \"y\"}, {\"hoverinfo\": \"skip\", \"legendgroup\": \"monday\", \"line\": {\"color\": \"gray\", \"dash\": \"dot\", \"width\": 0.5}, \"mode\": \"lines\", \"name\": \"Mondays\", \"showlegend\": false, \"type\": \"scatter\", \"x\": [\"2019-09-23\", \"2019-09-23\"], \"xaxis\": \"x\", \"y\": [0, 1282], \"yaxis\": \"y\"}, {\"hoverinfo\": \"skip\", \"legendgroup\": \"monday\", \"line\": {\"color\": \"gray\", \"dash\": \"dot\", \"width\": 0.5}, \"mode\": \"lines\", \"name\": \"Mondays\", \"showlegend\": false, \"type\": \"scatter\", \"x\": [\"2019-09-30\", \"2019-09-30\"], \"xaxis\": \"x\", \"y\": [0, 1282], \"yaxis\": \"y\"}, {\"hoverinfo\": \"skip\", \"legendgroup\": \"monday\", \"line\": {\"color\": \"gray\", \"dash\": \"dot\", \"width\": 0.5}, \"mode\": \"lines\", \"name\": \"Mondays\", \"showlegend\": false, \"type\": \"scatter\", \"x\": [\"2019-10-07\", \"2019-10-07\"], \"xaxis\": \"x\", \"y\": [0, 1282], \"yaxis\": \"y\"}, {\"hoverinfo\": \"skip\", \"legendgroup\": \"monday\", \"line\": {\"color\": \"gray\", \"dash\": \"dot\", \"width\": 0.5}, \"mode\": \"lines\", \"name\": \"Mondays\", \"showlegend\": false, \"type\": \"scatter\", \"x\": [\"2019-10-14\", \"2019-10-14\"], \"xaxis\": \"x\", \"y\": [0, 1282], \"yaxis\": \"y\"}, {\"hoverinfo\": \"skip\", \"legendgroup\": \"monday\", \"line\": {\"color\": \"gray\", \"dash\": \"dot\", \"width\": 0.5}, \"mode\": \"lines\", \"name\": \"Mondays\", \"showlegend\": false, \"type\": \"scatter\", \"x\": [\"2019-10-21\", \"2019-10-21\"], \"xaxis\": \"x\", \"y\": [0, 1282], \"yaxis\": \"y\"}, {\"hoverinfo\": \"skip\", \"legendgroup\": \"monday\", \"line\": {\"color\": \"gray\", \"dash\": \"dot\", \"width\": 0.5}, \"mode\": \"lines\", \"name\": \"Mondays\", \"showlegend\": false, \"type\": \"scatter\", \"x\": [\"2019-10-28\", \"2019-10-28\"], \"xaxis\": \"x\", \"y\": [0, 1282], \"yaxis\": \"y\"}, {\"hoverinfo\": \"skip\", \"legendgroup\": \"monday\", \"line\": {\"color\": \"gray\", \"dash\": \"dot\", \"width\": 0.5}, \"mode\": \"lines\", \"name\": \"Mondays\", \"showlegend\": false, \"type\": \"scatter\", \"x\": [\"2019-11-04\", \"2019-11-04\"], \"xaxis\": \"x\", \"y\": [0, 1282], \"yaxis\": \"y\"}, {\"hoverinfo\": \"skip\", \"legendgroup\": \"monday\", \"line\": {\"color\": \"gray\", \"dash\": \"dot\", \"width\": 0.5}, \"mode\": \"lines\", \"name\": \"Mondays\", \"showlegend\": false, \"type\": \"scatter\", \"x\": [\"2019-11-11\", \"2019-11-11\"], \"xaxis\": \"x\", \"y\": [0, 1282], \"yaxis\": \"y\"}, {\"hoverinfo\": \"skip\", \"legendgroup\": \"monday\", \"line\": {\"color\": \"gray\", \"dash\": \"dot\", \"width\": 0.5}, \"mode\": \"lines\", \"name\": \"Mondays\", \"showlegend\": false, \"type\": \"scatter\", \"x\": [\"2019-11-18\", \"2019-11-18\"], \"xaxis\": \"x\", \"y\": [0, 1282], \"yaxis\": \"y\"}, {\"hoverinfo\": \"skip\", \"legendgroup\": \"monday\", \"line\": {\"color\": \"gray\", \"dash\": \"dot\", \"width\": 0.5}, \"mode\": \"lines\", \"name\": \"Mondays\", \"showlegend\": false, \"type\": \"scatter\", \"x\": [\"2019-11-25\", \"2019-11-25\"], \"xaxis\": \"x\", \"y\": [0, 1282], \"yaxis\": \"y\"}, {\"hoverinfo\": \"skip\", \"legendgroup\": \"monday\", \"line\": {\"color\": \"gray\", \"dash\": \"dot\", \"width\": 0.5}, \"mode\": \"lines\", \"name\": \"Mondays\", \"showlegend\": false, \"type\": \"scatter\", \"x\": [\"2019-12-02\", \"2019-12-02\"], \"xaxis\": \"x\", \"y\": [0, 1282], \"yaxis\": \"y\"}, {\"hoverinfo\": \"skip\", \"legendgroup\": \"monday\", \"line\": {\"color\": \"gray\", \"dash\": \"dot\", \"width\": 0.5}, \"mode\": \"lines\", \"name\": \"Mondays\", \"showlegend\": false, \"type\": \"scatter\", \"x\": [\"2019-12-09\", \"2019-12-09\"], \"xaxis\": \"x\", \"y\": [0, 1282], \"yaxis\": \"y\"}, {\"hoverinfo\": \"skip\", \"legendgroup\": \"monday\", \"line\": {\"color\": \"gray\", \"dash\": \"dot\", \"width\": 0.5}, \"mode\": \"lines\", \"name\": \"Mondays\", \"showlegend\": false, \"type\": \"scatter\", \"x\": [\"2019-12-16\", \"2019-12-16\"], \"xaxis\": \"x\", \"y\": [0, 1282], \"yaxis\": \"y\"}, {\"hoverinfo\": \"skip\", \"legendgroup\": \"monday\", \"line\": {\"color\": \"gray\", \"dash\": \"dot\", \"width\": 0.5}, \"mode\": \"lines\", \"name\": \"Mondays\", \"showlegend\": false, \"type\": \"scatter\", \"x\": [\"2019-12-23\", \"2019-12-23\"], \"xaxis\": \"x\", \"y\": [0, 1282], \"yaxis\": \"y\"}, {\"hoverinfo\": \"skip\", \"legendgroup\": \"monday\", \"line\": {\"color\": \"gray\", \"dash\": \"dot\", \"width\": 0.5}, \"mode\": \"lines\", \"name\": \"Mondays\", \"showlegend\": false, \"type\": \"scatter\", \"x\": [\"2019-12-30\", \"2019-12-30\"], \"xaxis\": \"x\", \"y\": [0, 1282], \"yaxis\": \"y\"}, {\"hoverinfo\": \"skip\", \"legendgroup\": \"monday\", \"line\": {\"color\": \"gray\", \"dash\": \"dot\", \"width\": 0.5}, \"mode\": \"lines\", \"name\": \"Mondays\", \"showlegend\": false, \"type\": \"scatter\", \"x\": [\"2020-01-06\", \"2020-01-06\"], \"xaxis\": \"x\", \"y\": [0, 1282], \"yaxis\": \"y\"}, {\"hoverinfo\": \"skip\", \"legendgroup\": \"monday\", \"line\": {\"color\": \"gray\", \"dash\": \"dot\", \"width\": 0.5}, \"mode\": \"lines\", \"name\": \"Mondays\", \"showlegend\": false, \"type\": \"scatter\", \"x\": [\"2020-01-13\", \"2020-01-13\"], \"xaxis\": \"x\", \"y\": [0, 1282], \"yaxis\": \"y\"}, {\"hoverinfo\": \"skip\", \"legendgroup\": \"monday\", \"line\": {\"color\": \"gray\", \"dash\": \"dot\", \"width\": 0.5}, \"mode\": \"lines\", \"name\": \"Mondays\", \"showlegend\": false, \"type\": \"scatter\", \"x\": [\"2020-01-20\", \"2020-01-20\"], \"xaxis\": \"x\", \"y\": [0, 1282], \"yaxis\": \"y\"}, {\"hoverinfo\": \"skip\", \"legendgroup\": \"monday\", \"line\": {\"color\": \"gray\", \"dash\": \"dot\", \"width\": 0.5}, \"mode\": \"lines\", \"name\": \"Mondays\", \"showlegend\": false, \"type\": \"scatter\", \"x\": [\"2020-01-27\", \"2020-01-27\"], \"xaxis\": \"x\", \"y\": [0, 1282], \"yaxis\": \"y\"}, {\"hoverinfo\": \"skip\", \"legendgroup\": \"monday\", \"line\": {\"color\": \"gray\", \"dash\": \"dot\", \"width\": 0.5}, \"mode\": \"lines\", \"name\": \"Mondays\", \"showlegend\": false, \"type\": \"scatter\", \"x\": [\"2020-02-03\", \"2020-02-03\"], \"xaxis\": \"x\", \"y\": [0, 1282], \"yaxis\": \"y\"}, {\"hoverinfo\": \"skip\", \"legendgroup\": \"monday\", \"line\": {\"color\": \"gray\", \"dash\": \"dot\", \"width\": 0.5}, \"mode\": \"lines\", \"name\": \"Mondays\", \"showlegend\": false, \"type\": \"scatter\", \"x\": [\"2020-02-10\", \"2020-02-10\"], \"xaxis\": \"x\", \"y\": [0, 1282], \"yaxis\": \"y\"}, {\"hoverinfo\": \"skip\", \"legendgroup\": \"monday\", \"line\": {\"color\": \"gray\", \"dash\": \"dot\", \"width\": 0.5}, \"mode\": \"lines\", \"name\": \"Mondays\", \"showlegend\": false, \"type\": \"scatter\", \"x\": [\"2020-02-17\", \"2020-02-17\"], \"xaxis\": \"x\", \"y\": [0, 1282], \"yaxis\": \"y\"}, {\"hoverinfo\": \"skip\", \"legendgroup\": \"monday\", \"line\": {\"color\": \"gray\", \"dash\": \"dot\", \"width\": 0.5}, \"mode\": \"lines\", \"name\": \"Mondays\", \"showlegend\": false, \"type\": \"scatter\", \"x\": [\"2020-02-24\", \"2020-02-24\"], \"xaxis\": \"x\", \"y\": [0, 1282], \"yaxis\": \"y\"}, {\"hoverinfo\": \"skip\", \"legendgroup\": \"monday\", \"line\": {\"color\": \"gray\", \"dash\": \"dot\", \"width\": 0.5}, \"mode\": \"lines\", \"name\": \"Mondays\", \"showlegend\": false, \"type\": \"scatter\", \"x\": [\"2020-03-02\", \"2020-03-02\"], \"xaxis\": \"x\", \"y\": [0, 1282], \"yaxis\": \"y\"}, {\"hoverinfo\": \"x\", \"marker\": {\"color\": \"rgba(195, 90, 80, 1)\"}, \"mode\": \"lines\", \"name\": \"first day got trained 1a\", \"showlegend\": true, \"type\": \"scatter\", \"x\": [\"2019-09-19\", \"2019-09-19\"], \"xaxis\": \"x\", \"y\": [0, 1282], \"yaxis\": \"y\"}, {\"hoverinfo\": \"x\", \"marker\": {\"color\": \"rgba(255, 153, 20, 1)\"}, \"mode\": \"lines\", \"name\": \"first day got trained 1b\", \"showlegend\": true, \"type\": \"scatter\", \"x\": [\"2019-09-25\", \"2019-09-25\"], \"xaxis\": \"x\", \"y\": [0, 1282], \"yaxis\": \"y\"}, {\"hoverinfo\": \"x\", \"marker\": {\"color\": \"rgba(0, 0, 0, 1)\"}, \"mode\": \"lines\", \"name\": \"mouse became seven months\", \"showlegend\": true, \"type\": \"scatter\", \"x\": [\"2020-01-14\", \"2020-01-14\"], \"xaxis\": \"x\", \"y\": [0, 1282], \"yaxis\": \"y\"}, {\"hoverinfo\": \"x\", \"line\": {\"color\": \"rgba(5, 142, 255, 1)\", \"dash\": \"dashdot\", \"width\": 2}, \"mode\": \"lines\", \"name\": \"good enough for brainwide map\", \"showlegend\": true, \"type\": \"scatter\", \"x\": [\"2019-09-19\", \"2019-09-19\"], \"xaxis\": \"x\", \"y\": [0, 1282], \"yaxis\": \"y\"}],\n",
       "                        {\"height\": 400, \"legend\": {\"orientation\": \"v\", \"x\": 1.2, \"y\": 0.8}, \"template\": {\"layout\": {\"plot_bgcolor\": \"white\"}}, \"title\": {\"text\": \"Trial counts and session duration\", \"x\": 0.18, \"y\": 0.85}, \"width\": 700, \"xaxis\": {\"range\": [\"2019-07-25\", \"2020-03-08\"], \"showgrid\": false, \"title\": {\"text\": \"Date\"}}, \"yaxis\": {\"range\": [0, 1282], \"title\": {\"text\": \"Trial counts\"}}, \"yaxis2\": {\"color\": \"red\", \"overlaying\": \"y\", \"side\": \"right\", \"title\": {\"text\": \"Session duration (mins)\"}}},\n",
       "                        {\"responsive\": true}\n",
       "                    ).then(function(){\n",
       "                            \n",
       "var gd = document.getElementById('97ba2fe9-6c1b-4c1c-8bb1-d8596d192587');\n",
       "var x = new MutationObserver(function (mutations, observer) {{\n",
       "        var display = window.getComputedStyle(gd).display;\n",
       "        if (!display || display === 'none') {{\n",
       "            console.log([gd, 'removed!']);\n",
       "            Plotly.purge(gd);\n",
       "            observer.disconnect();\n",
       "        }}\n",
       "}});\n",
       "\n",
       "// Listen for the removal of the full notebook cells\n",
       "var notebookContainer = gd.closest('#notebook-container');\n",
       "if (notebookContainer) {{\n",
       "    x.observe(notebookContainer, {childList: true});\n",
       "}}\n",
       "\n",
       "// Listen for the clearing of the current output cell\n",
       "var outputEl = gd.closest('.output');\n",
       "if (outputEl) {{\n",
       "    x.observe(outputEl, {childList: true});\n",
       "}}\n",
       "\n",
       "                        })\n",
       "                };\n",
       "                });\n",
       "            </script>\n",
       "        </div>"
      ]
     },
     "metadata": {},
     "output_type": "display_data"
    }
   ],
   "source": [
    "# get trial counts and session length to date\n",
    "session_info = (behavior_ingest.TrialSet *\n",
    "                acquisition.Session & subj).proj(\n",
    "    'n_trials', session_date='DATE(session_start_time)',\n",
    "    session_duration='TIMESTAMPDIFF(MINUTE, \\\n",
    "        session_start_time, session_end_time)').fetch(as_dict=True)\n",
    "session_info = pd.DataFrame(session_info)\n",
    "session_info = session_info.where((pd.notnull(session_info)), None)\n",
    "\n",
    "n_trials = session_info['n_trials'].tolist()\n",
    "max_trials = max(n_trials)\n",
    "yrange = [0, max_trials+50]\n",
    "\n",
    "trial_counts = go.Scatter(\n",
    "    x=[t.strftime('%Y-%m-%d') for t in session_info['session_date'].tolist()],\n",
    "    y=session_info['n_trials'].tolist(),\n",
    "    mode='markers+lines',\n",
    "    marker=dict(\n",
    "        size=6,\n",
    "        color='black',\n",
    "        line=dict(\n",
    "            color='white',\n",
    "            width=1\n",
    "        )\n",
    "    ),\n",
    "    name='trial counts',\n",
    "    yaxis='y1',\n",
    "    showlegend=False\n",
    ")\n",
    "\n",
    "session_length = go.Scatter(\n",
    "    x=[t.strftime('%Y-%m-%d') for t in session_info['session_date'].tolist()],\n",
    "    y=session_info['session_duration'].tolist(),\n",
    "    mode='markers+lines',\n",
    "    marker=dict(\n",
    "        size=6,\n",
    "        color='red',\n",
    "        line=dict(\n",
    "            color='white',\n",
    "            width=1\n",
    "        )\n",
    "    ),\n",
    "    name='session duration',\n",
    "    yaxis='y2',\n",
    "    showlegend=False\n",
    ")\n",
    "\n",
    "data = [trial_counts, session_length]\n",
    "\n",
    "# add monday plots\n",
    "data = putils.create_monday_plot(data, yrange, d['mondays'])\n",
    "\n",
    "# add status plots\n",
    "data = putils.create_status_plot(\n",
    "    data, yrange, status, public=public)\n",
    "\n",
    "layout = go.Layout(\n",
    "    yaxis=dict(\n",
    "        title='Trial counts',\n",
    "        range=yrange\n",
    "    ),\n",
    "    yaxis2=dict(\n",
    "        title='Session duration (mins)',\n",
    "        overlaying='y',\n",
    "        color='red',\n",
    "        side='right'\n",
    "    ),\n",
    "    xaxis=dict(\n",
    "        title='Date',\n",
    "        range=[d['first_date_str'], d['last_date_str']],\n",
    "        showgrid=False\n",
    "    ),\n",
    "    width=700,\n",
    "    height=400,\n",
    "    title=dict(\n",
    "        text='Trial counts and session duration',\n",
    "        x=0.18,\n",
    "        y=0.85\n",
    "    ),\n",
    "    legend=dict(\n",
    "        x=1.2,\n",
    "        y=0.8,\n",
    "        orientation='v'),\n",
    "    template=dict(\n",
    "        layout=dict(\n",
    "            plot_bgcolor=\"white\"\n",
    "        )\n",
    "    )\n",
    ")\n",
    "fig = go.Figure(data=data, layout=layout)\n",
    "plotly.offline.iplot(fig)"
   ]
  },
  {
   "cell_type": "code",
   "execution_count": 20,
   "metadata": {},
   "outputs": [],
   "source": [
    "f = open(\"trial_counts_session_duration.json\",\"w\")\n",
    "s = json.dumps(fig.to_plotly_json())\n",
    "f.write(s)\n",
    "f.close()"
   ]
  }
 ],
 "metadata": {
  "kernelspec": {
   "display_name": "Python 3",
   "language": "python",
   "name": "python3"
  },
  "language_info": {
   "codemirror_mode": {
    "name": "ipython",
    "version": 3
   },
   "file_extension": ".py",
   "mimetype": "text/x-python",
   "name": "python",
   "nbconvert_exporter": "python",
   "pygments_lexer": "ipython3",
   "version": "3.6.6"
  }
 },
 "nbformat": 4,
 "nbformat_minor": 2
}
