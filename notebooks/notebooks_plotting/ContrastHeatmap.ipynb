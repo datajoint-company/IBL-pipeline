{
 "cells": [
  {
   "cell_type": "code",
   "execution_count": null,
   "metadata": {},
   "outputs": [],
   "source": [
    "from ibl_pipeline.analyses import behavior\n",
    "from ibl_pipeline import behavior as behavior_ingest\n",
    "from ibl_pipeline import subject, action, acquisition\n",
    "from ibl_pipeline.utils import psychofit as psy\n",
    "import plotting_utils as putils\n",
    "from uuid import UUID\n",
    "import matplotlib.pyplot as plt\n",
    "import numpy as np\n",
    "import datetime\n",
    "import datajoint as dj\n",
    "import json\n",
    "import seaborn as sns\n",
    "import pandas as pd\n",
    "import plotly\n",
    "import plotly.graph_objs as go\n",
    "import statsmodels.stats.proportion as smp\n",
    "plotly.offline.init_notebook_mode(connected=True)"
   ]
  },
  {
   "cell_type": "code",
   "execution_count": null,
   "metadata": {},
   "outputs": [],
   "source": [
    "subject.Subject & 'subject_nickname=\"KS004\"'"
   ]
  },
  {
   "cell_type": "code",
   "execution_count": null,
   "metadata": {},
   "outputs": [],
   "source": [
    "key = {'subject_uuid': UUID('05e97eea-64e2-4e52-a78a-5b78875b4fa3'), 'last_session_date': datetime.date(2019, 9, 22)}\n",
    "subj = subject.Subject & 'subject_nickname=\"KS004\"'\n",
    "# get trial counts and session length to date\n",
    "sessions = (behavior.BehavioralSummaryByDate.PsychResults & 'prob_left=0.5' &\n",
    "            key).proj('session_date', 'signed_contrasts', 'prob_choose_right')\n",
    "\n",
    "# get date ranges and mondays\n",
    "d = putils.get_date_range(subj)\n",
    "\n",
    "# get contrast and p_prob_choose_right per day\n",
    "contrast_list = []\n",
    "for day in d['date_array']:\n",
    "    if sessions & {'session_date': day}:\n",
    "        session = (sessions & {'session_date': day}).fetch(as_dict=True)\n",
    "        session = session[0]\n",
    "        for icontrast, contrast in enumerate(session['signed_contrasts']):\n",
    "            contrast_list.append({'session_date': session['session_date'], \n",
    "                                 'signed_contrast': round(contrast, 2)*100, \n",
    "                                 'prob_choose_right': session['prob_choose_right'][icontrast]})\n",
    "    else:\n",
    "        contrast_list.append({'session_date': day,\n",
    "                              'signed_contrast': 100,\n",
    "                              'prob_choose_right': np.nan\n",
    "            \n",
    "        })\n",
    "contrast_df = pd.DataFrame(contrast_list)\n",
    "contrast_map = contrast_df.pivot(\n",
    "    'signed_contrast', 'session_date', 'prob_choose_right').sort_values(\n",
    "        by='signed_contrast', ascending=False)\n",
    "\n",
    "contrast_map = contrast_map.where(pd.notnull(contrast_map), None)\n",
    "contrasts = np.sort(contrast_df['signed_contrast'].unique())"
   ]
  },
  {
   "cell_type": "code",
   "execution_count": null,
   "metadata": {},
   "outputs": [],
   "source": [
    "data = [dict(\n",
    "    x=[t.strftime('%Y-%m-%d') \n",
    "       for t in contrast_map.columns.tolist()],\n",
    "    y=list(range(len(contrast_map.index.tolist())))[::-1],\n",
    "    z=contrast_map.values.tolist(),\n",
    "    zmax=1,\n",
    "    zmin=0,\n",
    "    xgap=1,\n",
    "    ygap=1,\n",
    "    type='heatmap',\n",
    "    colorbar=dict(\n",
    "        thickness=10,\n",
    "        title='Rightward Choice (%)',\n",
    "        titleside='right',\n",
    "    ),\n",
    "    colorscale='PuOr'\n",
    "    \n",
    ")]\n",
    "\n",
    "data = putils.create_monday_plot(data, [-100, 100], d['mondays'])\n",
    "\n",
    "layout = go.Layout(\n",
    "    xaxis=dict(\n",
    "        title='Date',\n",
    "        showgrid=False\n",
    "    ),\n",
    "    yaxis=dict(\n",
    "        title='Contrast (%)',\n",
    "        range=[0, len(contrast_map.index.tolist())],\n",
    "        tickmode = 'array',\n",
    "        tickvals = list(range(0, len(contrast_map.index.tolist()))),\n",
    "        ticktext = [str(contrast) for contrast in contrasts]\n",
    "    ),\n",
    "    width=700,\n",
    "    height=400,\n",
    "    title=dict(\n",
    "        text='Contrast heatmap',\n",
    "        x=0.3,\n",
    "        y=0.85\n",
    "    ),\n",
    "    legend=dict(\n",
    "        x=1.2,\n",
    "        y=0.8,\n",
    "        orientation='v'\n",
    "    ),\n",
    "    template=dict(\n",
    "        layout=dict(\n",
    "           plot_bgcolor=\"white\"\n",
    "        )\n",
    "    )\n",
    "    \n",
    ")\n",
    "\n",
    "fig = go.Figure(data=data, layout=layout)\n",
    "plotly.offline.iplot(fig)"
   ]
  },
  {
   "cell_type": "code",
   "execution_count": null,
   "metadata": {},
   "outputs": [],
   "source": [
    "f = open(\"contrast_heatmap.json\",\"w\")\n",
    "s = json.dumps(fig.to_plotly_json())\n",
    "f.write(s)\n",
    "f.close()"
   ]
  },
  {
   "cell_type": "code",
   "execution_count": null,
   "metadata": {},
   "outputs": [],
   "source": [
    "import colorlover as cl"
   ]
  },
  {
   "cell_type": "code",
   "execution_count": null,
   "metadata": {},
   "outputs": [],
   "source": [
    "puor = cl.scales['9']['div']['PuOr']; puor"
   ]
  },
  {
   "cell_type": "code",
   "execution_count": null,
   "metadata": {},
   "outputs": [],
   "source": [
    "cl.to_hsl(puor)"
   ]
  },
  {
   "cell_type": "code",
   "execution_count": null,
   "metadata": {},
   "outputs": [],
   "source": []
  }
 ],
 "metadata": {
  "kernelspec": {
   "display_name": "Python 3",
   "language": "python",
   "name": "python3"
  },
  "language_info": {
   "codemirror_mode": {
    "name": "ipython",
    "version": 3
   },
   "file_extension": ".py",
   "mimetype": "text/x-python",
   "name": "python",
   "nbconvert_exporter": "python",
   "pygments_lexer": "ipython3",
   "version": "3.6.6"
  }
 },
 "nbformat": 4,
 "nbformat_minor": 2
}
