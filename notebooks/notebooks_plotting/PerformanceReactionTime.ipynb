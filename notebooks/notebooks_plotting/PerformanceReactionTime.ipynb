{
 "cells": [
  {
   "cell_type": "code",
   "execution_count": 1,
   "metadata": {},
   "outputs": [
    {
     "name": "stdout",
     "output_type": "stream",
     "text": [
      "Connecting shan@datajoint.internationalbrainlab.org:3306\n",
      "Connected to https://alyx.internationalbrainlab.org as vathes\n",
      "Connected to https://alyx.internationalbrainlab.org as vathes\n"
     ]
    },
    {
     "data": {
      "text/html": [
       "        <script type=\"text/javascript\">\n",
       "        window.PlotlyConfig = {MathJaxConfig: 'local'};\n",
       "        if (window.MathJax) {MathJax.Hub.Config({SVG: {font: \"STIX-Web\"}});}\n",
       "        if (typeof require !== 'undefined') {\n",
       "        require.undef(\"plotly\");\n",
       "        requirejs.config({\n",
       "            paths: {\n",
       "                'plotly': ['https://cdn.plot.ly/plotly-latest.min']\n",
       "            }\n",
       "        });\n",
       "        require(['plotly'], function(Plotly) {\n",
       "            window._Plotly = Plotly;\n",
       "        });\n",
       "        }\n",
       "        </script>\n",
       "        "
      ]
     },
     "metadata": {},
     "output_type": "display_data"
    }
   ],
   "source": [
    "from ibl_pipeline.analyses import behavior\n",
    "from ibl_pipeline import behavior as behavior_ingest\n",
    "from ibl_pipeline import subject, acquisition\n",
    "from ibl_pipeline.utils import psychofit as psy\n",
    "from ibl_pipeline.plotting import plotting_utils_behavior as putils\n",
    "from uuid import UUID\n",
    "import numpy as np\n",
    "import datetime\n",
    "import datajoint as dj\n",
    "import json\n",
    "import seaborn as sns\n",
    "import pandas as pd\n",
    "import plotly\n",
    "import plotly.graph_objs as go\n",
    "import statsmodels.stats.proportion as smp\n",
    "plotly.offline.init_notebook_mode(connected=True)\n",
    "public = False"
   ]
  },
  {
   "cell_type": "code",
   "execution_count": 2,
   "metadata": {},
   "outputs": [],
   "source": [
    "subj = subject.Subject & {'subject_nickname': 'KS023'}\n",
    "\n",
    "# get the first date when animal became \"trained\" and \"ready for ephys\"\n",
    "status = putils.get_status(subj)\n",
    "\n",
    "# get date range and mondays\n",
    "d = putils.get_date_range(subj)\n",
    "if d['seven_months_date']:\n",
    "    status['is_over_seven_months'] = True\n",
    "    status['seven_months_date'] = d['seven_months_date'].strftime('%Y-%m-%d')\n",
    "else:\n",
    "    status['is_over_seven_months'] = False"
   ]
  },
  {
   "cell_type": "code",
   "execution_count": 3,
   "metadata": {},
   "outputs": [
    {
     "data": {
      "application/vnd.plotly.v1+json": {
       "config": {
        "linkText": "Export to plot.ly",
        "plotlyServerURL": "https://plot.ly",
        "showLink": false
       },
       "data": [
        {
         "marker": {
          "color": "black",
          "line": {
           "color": "white",
           "width": 1
          },
          "size": 6
         },
         "mode": "markers+lines",
         "name": "performance easy",
         "showlegend": false,
         "type": "scatter",
         "x": [
          "2019-10-01",
          "2019-10-02",
          "2019-10-03",
          "2019-10-08",
          "2019-10-10",
          "2019-10-11",
          "2019-10-14",
          "2019-10-15",
          "2019-10-17",
          "2019-10-18",
          "2019-10-21",
          "2019-10-22",
          "2019-10-24",
          "2019-10-25",
          "2019-10-29",
          "2019-10-31",
          "2019-11-01",
          "2019-11-04",
          "2019-11-05",
          "2019-11-07",
          "2019-11-08",
          "2019-11-12",
          "2019-11-13",
          "2019-11-14",
          "2019-11-15",
          "2019-11-19",
          "2019-11-21",
          "2019-11-22",
          "2019-11-25",
          "2019-11-26",
          "2019-11-27",
          "2019-11-28",
          "2019-12-02",
          "2019-12-03",
          "2019-12-04",
          "2019-12-06",
          "2019-12-07",
          "2019-12-08",
          "2019-12-10",
          "2019-12-11"
         ],
         "y": [
          0.448276,
          0.56213,
          0.728353,
          0.887097,
          0.923077,
          0.946237,
          0.961905,
          0.977778,
          0.981818,
          1,
          1,
          0.991525,
          0.956897,
          0.984375,
          0.992647,
          0.986207,
          1,
          0.989583,
          0.893805,
          0.977273,
          0.985714,
          0.958904,
          0.987342,
          0.989247,
          0.990991,
          0.988235,
          0.975207,
          0.944444,
          0.907692,
          1,
          0.966667,
          0.916667,
          0.962687,
          0.982558,
          1,
          0.992908,
          0.951807,
          0.977528,
          1,
          0.964286
         ],
         "yaxis": "y"
        },
        {
         "marker": {
          "color": "red",
          "line": {
           "color": "white",
           "width": 1
          },
          "size": 6
         },
         "mode": "markers+lines",
         "name": "reaction time",
         "showlegend": false,
         "type": "scatter",
         "x": [
          "2019-10-01",
          "2019-10-02",
          "2019-10-03",
          "2019-10-08",
          "2019-10-10",
          "2019-10-11",
          "2019-10-14",
          "2019-10-15",
          "2019-10-17",
          "2019-10-18",
          "2019-10-21",
          "2019-10-22",
          "2019-10-24",
          "2019-10-25",
          "2019-10-29",
          "2019-10-31",
          "2019-11-01",
          "2019-11-04",
          "2019-11-05",
          "2019-11-07",
          "2019-11-08",
          "2019-11-12",
          "2019-11-13",
          "2019-11-14",
          "2019-11-15",
          "2019-11-19",
          "2019-11-21",
          "2019-11-22",
          "2019-11-25",
          "2019-11-26",
          "2019-11-27",
          "2019-11-28",
          "2019-12-02",
          "2019-12-03",
          "2019-12-04",
          "2019-12-06",
          "2019-12-07",
          "2019-12-08",
          "2019-12-10",
          "2019-12-11"
         ],
         "y": [
          20.3008,
          4.4942,
          3.08166,
          0.60273,
          0.482464,
          0.442652,
          0.409251,
          0.332807,
          0.468705,
          0.381929,
          0.333322,
          0.297746,
          0.299108,
          0.309121,
          0.317263,
          0.325579,
          0.297803,
          0.337364,
          0.384279,
          0.388938,
          0.333047,
          0.711099,
          0.4851,
          0.350946,
          0.323116,
          0.349884,
          0.380604,
          0.396207,
          2.7206,
          0.697309,
          2.17031,
          0.739069,
          0.459172,
          0.34953,
          0.467424,
          0.772379,
          0.340566,
          1.98266e-07,
          0.502712,
          4.54026
         ],
         "yaxis": "y2"
        },
        {
         "hoverinfo": "skip",
         "legendgroup": "monday",
         "line": {
          "color": "gray",
          "dash": "dot",
          "width": 0.5
         },
         "mode": "lines",
         "name": "Mondays",
         "showlegend": true,
         "type": "scatter",
         "x": [
          "2019-09-23",
          "2019-09-23"
         ],
         "xaxis": "x",
         "y": [
          0,
          1.1
         ],
         "yaxis": "y"
        },
        {
         "hoverinfo": "skip",
         "legendgroup": "monday",
         "line": {
          "color": "gray",
          "dash": "dot",
          "width": 0.5
         },
         "mode": "lines",
         "name": "Mondays",
         "showlegend": false,
         "type": "scatter",
         "x": [
          "2019-09-30",
          "2019-09-30"
         ],
         "xaxis": "x",
         "y": [
          0,
          1.1
         ],
         "yaxis": "y"
        },
        {
         "hoverinfo": "skip",
         "legendgroup": "monday",
         "line": {
          "color": "gray",
          "dash": "dot",
          "width": 0.5
         },
         "mode": "lines",
         "name": "Mondays",
         "showlegend": false,
         "type": "scatter",
         "x": [
          "2019-10-07",
          "2019-10-07"
         ],
         "xaxis": "x",
         "y": [
          0,
          1.1
         ],
         "yaxis": "y"
        },
        {
         "hoverinfo": "skip",
         "legendgroup": "monday",
         "line": {
          "color": "gray",
          "dash": "dot",
          "width": 0.5
         },
         "mode": "lines",
         "name": "Mondays",
         "showlegend": false,
         "type": "scatter",
         "x": [
          "2019-10-14",
          "2019-10-14"
         ],
         "xaxis": "x",
         "y": [
          0,
          1.1
         ],
         "yaxis": "y"
        },
        {
         "hoverinfo": "skip",
         "legendgroup": "monday",
         "line": {
          "color": "gray",
          "dash": "dot",
          "width": 0.5
         },
         "mode": "lines",
         "name": "Mondays",
         "showlegend": false,
         "type": "scatter",
         "x": [
          "2019-10-21",
          "2019-10-21"
         ],
         "xaxis": "x",
         "y": [
          0,
          1.1
         ],
         "yaxis": "y"
        },
        {
         "hoverinfo": "skip",
         "legendgroup": "monday",
         "line": {
          "color": "gray",
          "dash": "dot",
          "width": 0.5
         },
         "mode": "lines",
         "name": "Mondays",
         "showlegend": false,
         "type": "scatter",
         "x": [
          "2019-10-28",
          "2019-10-28"
         ],
         "xaxis": "x",
         "y": [
          0,
          1.1
         ],
         "yaxis": "y"
        },
        {
         "hoverinfo": "skip",
         "legendgroup": "monday",
         "line": {
          "color": "gray",
          "dash": "dot",
          "width": 0.5
         },
         "mode": "lines",
         "name": "Mondays",
         "showlegend": false,
         "type": "scatter",
         "x": [
          "2019-11-04",
          "2019-11-04"
         ],
         "xaxis": "x",
         "y": [
          0,
          1.1
         ],
         "yaxis": "y"
        },
        {
         "hoverinfo": "skip",
         "legendgroup": "monday",
         "line": {
          "color": "gray",
          "dash": "dot",
          "width": 0.5
         },
         "mode": "lines",
         "name": "Mondays",
         "showlegend": false,
         "type": "scatter",
         "x": [
          "2019-11-11",
          "2019-11-11"
         ],
         "xaxis": "x",
         "y": [
          0,
          1.1
         ],
         "yaxis": "y"
        },
        {
         "hoverinfo": "skip",
         "legendgroup": "monday",
         "line": {
          "color": "gray",
          "dash": "dot",
          "width": 0.5
         },
         "mode": "lines",
         "name": "Mondays",
         "showlegend": false,
         "type": "scatter",
         "x": [
          "2019-11-18",
          "2019-11-18"
         ],
         "xaxis": "x",
         "y": [
          0,
          1.1
         ],
         "yaxis": "y"
        },
        {
         "hoverinfo": "skip",
         "legendgroup": "monday",
         "line": {
          "color": "gray",
          "dash": "dot",
          "width": 0.5
         },
         "mode": "lines",
         "name": "Mondays",
         "showlegend": false,
         "type": "scatter",
         "x": [
          "2019-11-25",
          "2019-11-25"
         ],
         "xaxis": "x",
         "y": [
          0,
          1.1
         ],
         "yaxis": "y"
        },
        {
         "hoverinfo": "skip",
         "legendgroup": "monday",
         "line": {
          "color": "gray",
          "dash": "dot",
          "width": 0.5
         },
         "mode": "lines",
         "name": "Mondays",
         "showlegend": false,
         "type": "scatter",
         "x": [
          "2019-12-02",
          "2019-12-02"
         ],
         "xaxis": "x",
         "y": [
          0,
          1.1
         ],
         "yaxis": "y"
        },
        {
         "hoverinfo": "skip",
         "legendgroup": "monday",
         "line": {
          "color": "gray",
          "dash": "dot",
          "width": 0.5
         },
         "mode": "lines",
         "name": "Mondays",
         "showlegend": false,
         "type": "scatter",
         "x": [
          "2019-12-09",
          "2019-12-09"
         ],
         "xaxis": "x",
         "y": [
          0,
          1.1
         ],
         "yaxis": "y"
        },
        {
         "hoverinfo": "skip",
         "legendgroup": "good_enough_dates",
         "line": {
          "color": "rgba(5, 142, 255, 0.2)",
          "width": 2
         },
         "mode": "lines",
         "name": "good enough for brainwide map",
         "showlegend": true,
         "type": "scatter",
         "x": [
          "2019-12-06",
          "2019-12-06"
         ],
         "xaxis": "x",
         "y": [
          0,
          1.1
         ],
         "yaxis": "y"
        },
        {
         "hoverinfo": "skip",
         "legendgroup": "good_enough_dates",
         "line": {
          "color": "rgba(5, 142, 255, 0.2)",
          "width": 2
         },
         "mode": "lines",
         "name": "good enough for brainwide map",
         "showlegend": false,
         "type": "scatter",
         "x": [
          "2019-12-07",
          "2019-12-07"
         ],
         "xaxis": "x",
         "y": [
          0,
          1.1
         ],
         "yaxis": "y"
        },
        {
         "hoverinfo": "skip",
         "legendgroup": "good_enough_dates",
         "line": {
          "color": "rgba(5, 142, 255, 0.2)",
          "width": 2
         },
         "mode": "lines",
         "name": "good enough for brainwide map",
         "showlegend": false,
         "type": "scatter",
         "x": [
          "2019-12-08",
          "2019-12-08"
         ],
         "xaxis": "x",
         "y": [
          0,
          1.1
         ],
         "yaxis": "y"
        },
        {
         "hoverinfo": "skip",
         "legendgroup": "good_enough_dates",
         "line": {
          "color": "rgba(5, 142, 255, 0.2)",
          "width": 2
         },
         "mode": "lines",
         "name": "good enough for brainwide map",
         "showlegend": false,
         "type": "scatter",
         "x": [
          "2019-12-10",
          "2019-12-10"
         ],
         "xaxis": "x",
         "y": [
          0,
          1.1
         ],
         "yaxis": "y"
        },
        {
         "hoverinfo": "x",
         "marker": {
          "color": "rgba(195, 90, 80, 1)"
         },
         "mode": "lines",
         "name": "first day got trained 1a",
         "showlegend": true,
         "type": "scatter",
         "x": [
          "2019-10-11",
          "2019-10-11"
         ],
         "xaxis": "x",
         "y": [
          0,
          1.1
         ],
         "yaxis": "y"
        },
        {
         "hoverinfo": "x",
         "marker": {
          "color": "rgba(255, 153, 20, 1)"
         },
         "mode": "lines",
         "name": "first day got trained 1b",
         "showlegend": true,
         "type": "scatter",
         "x": [
          "2019-10-14",
          "2019-10-14"
         ],
         "xaxis": "x",
         "y": [
          0,
          1.1
         ],
         "yaxis": "y"
        },
        {
         "hoverinfo": "x",
         "marker": {
          "color": "rgba(28, 20, 255, 1)"
         },
         "mode": "lines",
         "name": "first day got ready4ephysrig",
         "showlegend": true,
         "type": "scatter",
         "x": [
          "2019-11-19",
          "2019-11-19"
         ],
         "xaxis": "x",
         "y": [
          0,
          1.1
         ],
         "yaxis": "y"
        },
        {
         "hoverinfo": "x",
         "marker": {
          "color": "rgba(117, 117, 117, 1)"
         },
         "mode": "lines",
         "name": "first day got ready4delay",
         "showlegend": true,
         "type": "scatter",
         "x": [
          "2019-11-26",
          "2019-11-26"
         ],
         "xaxis": "x",
         "y": [
          0,
          1.1
         ],
         "yaxis": "y"
        },
        {
         "hoverinfo": "x",
         "line": {
          "color": "rgba(5, 142, 255, 1)",
          "dash": "dashdot",
          "width": 2
         },
         "mode": "lines",
         "name": "first ephys session date",
         "showlegend": true,
         "type": "scatter",
         "x": [
          "2019-12-06",
          "2019-12-06"
         ],
         "xaxis": "x",
         "y": [
          0,
          1.1
         ],
         "yaxis": "y"
        }
       ],
       "layout": {
        "height": 400,
        "legend": {
         "orientation": "v",
         "x": 1.2,
         "y": 0.8
        },
        "template": {
         "layout": {
          "plot_bgcolor": "white"
         }
        },
        "title": {
         "text": "Performance and median reaction time",
         "x": 0.14,
         "y": 0.85
        },
        "width": 700,
        "xaxis": {
         "showgrid": false,
         "title": {
          "text": "Date"
         }
        },
        "yaxis": {
         "range": [
          0,
          1.1
         ],
         "title": {
          "text": "Performance on easy trials"
         }
        },
        "yaxis2": {
         "color": "red",
         "dtick": [
          -1,
          0,
          1
         ],
         "overlaying": "y",
         "range": [
          -1,
          1
         ],
         "side": "right",
         "title": {
          "text": "Median reaction time (s)"
         },
         "type": "log"
        }
       }
      },
      "text/html": [
       "<div>\n",
       "        \n",
       "        \n",
       "            <div id=\"6626e648-bd2e-4733-a410-3acfb92f0e97\" class=\"plotly-graph-div\" style=\"height:400px; width:700px;\"></div>\n",
       "            <script type=\"text/javascript\">\n",
       "                require([\"plotly\"], function(Plotly) {\n",
       "                    window.PLOTLYENV=window.PLOTLYENV || {};\n",
       "                    \n",
       "                if (document.getElementById(\"6626e648-bd2e-4733-a410-3acfb92f0e97\")) {\n",
       "                    Plotly.newPlot(\n",
       "                        '6626e648-bd2e-4733-a410-3acfb92f0e97',\n",
       "                        [{\"marker\": {\"color\": \"black\", \"line\": {\"color\": \"white\", \"width\": 1}, \"size\": 6}, \"mode\": \"markers+lines\", \"name\": \"performance easy\", \"showlegend\": false, \"type\": \"scatter\", \"x\": [\"2019-10-01\", \"2019-10-02\", \"2019-10-03\", \"2019-10-08\", \"2019-10-10\", \"2019-10-11\", \"2019-10-14\", \"2019-10-15\", \"2019-10-17\", \"2019-10-18\", \"2019-10-21\", \"2019-10-22\", \"2019-10-24\", \"2019-10-25\", \"2019-10-29\", \"2019-10-31\", \"2019-11-01\", \"2019-11-04\", \"2019-11-05\", \"2019-11-07\", \"2019-11-08\", \"2019-11-12\", \"2019-11-13\", \"2019-11-14\", \"2019-11-15\", \"2019-11-19\", \"2019-11-21\", \"2019-11-22\", \"2019-11-25\", \"2019-11-26\", \"2019-11-27\", \"2019-11-28\", \"2019-12-02\", \"2019-12-03\", \"2019-12-04\", \"2019-12-06\", \"2019-12-07\", \"2019-12-08\", \"2019-12-10\", \"2019-12-11\"], \"y\": [0.448276, 0.56213, 0.728353, 0.887097, 0.923077, 0.946237, 0.961905, 0.977778, 0.981818, 1.0, 1.0, 0.991525, 0.956897, 0.984375, 0.992647, 0.986207, 1.0, 0.989583, 0.893805, 0.977273, 0.985714, 0.958904, 0.987342, 0.989247, 0.990991, 0.988235, 0.975207, 0.944444, 0.907692, 1.0, 0.966667, 0.916667, 0.962687, 0.982558, 1.0, 0.992908, 0.951807, 0.977528, 1.0, 0.964286], \"yaxis\": \"y\"}, {\"marker\": {\"color\": \"red\", \"line\": {\"color\": \"white\", \"width\": 1}, \"size\": 6}, \"mode\": \"markers+lines\", \"name\": \"reaction time\", \"showlegend\": false, \"type\": \"scatter\", \"x\": [\"2019-10-01\", \"2019-10-02\", \"2019-10-03\", \"2019-10-08\", \"2019-10-10\", \"2019-10-11\", \"2019-10-14\", \"2019-10-15\", \"2019-10-17\", \"2019-10-18\", \"2019-10-21\", \"2019-10-22\", \"2019-10-24\", \"2019-10-25\", \"2019-10-29\", \"2019-10-31\", \"2019-11-01\", \"2019-11-04\", \"2019-11-05\", \"2019-11-07\", \"2019-11-08\", \"2019-11-12\", \"2019-11-13\", \"2019-11-14\", \"2019-11-15\", \"2019-11-19\", \"2019-11-21\", \"2019-11-22\", \"2019-11-25\", \"2019-11-26\", \"2019-11-27\", \"2019-11-28\", \"2019-12-02\", \"2019-12-03\", \"2019-12-04\", \"2019-12-06\", \"2019-12-07\", \"2019-12-08\", \"2019-12-10\", \"2019-12-11\"], \"y\": [20.3008, 4.4942, 3.08166, 0.60273, 0.482464, 0.442652, 0.409251, 0.332807, 0.468705, 0.381929, 0.333322, 0.297746, 0.299108, 0.309121, 0.317263, 0.325579, 0.297803, 0.337364, 0.384279, 0.388938, 0.333047, 0.711099, 0.4851, 0.350946, 0.323116, 0.349884, 0.380604, 0.396207, 2.7206, 0.697309, 2.17031, 0.739069, 0.459172, 0.34953, 0.467424, 0.772379, 0.340566, 1.98266e-07, 0.502712, 4.54026], \"yaxis\": \"y2\"}, {\"hoverinfo\": \"skip\", \"legendgroup\": \"monday\", \"line\": {\"color\": \"gray\", \"dash\": \"dot\", \"width\": 0.5}, \"mode\": \"lines\", \"name\": \"Mondays\", \"showlegend\": true, \"type\": \"scatter\", \"x\": [\"2019-09-23\", \"2019-09-23\"], \"xaxis\": \"x\", \"y\": [0, 1.1], \"yaxis\": \"y\"}, {\"hoverinfo\": \"skip\", \"legendgroup\": \"monday\", \"line\": {\"color\": \"gray\", \"dash\": \"dot\", \"width\": 0.5}, \"mode\": \"lines\", \"name\": \"Mondays\", \"showlegend\": false, \"type\": \"scatter\", \"x\": [\"2019-09-30\", \"2019-09-30\"], \"xaxis\": \"x\", \"y\": [0, 1.1], \"yaxis\": \"y\"}, {\"hoverinfo\": \"skip\", \"legendgroup\": \"monday\", \"line\": {\"color\": \"gray\", \"dash\": \"dot\", \"width\": 0.5}, \"mode\": \"lines\", \"name\": \"Mondays\", \"showlegend\": false, \"type\": \"scatter\", \"x\": [\"2019-10-07\", \"2019-10-07\"], \"xaxis\": \"x\", \"y\": [0, 1.1], \"yaxis\": \"y\"}, {\"hoverinfo\": \"skip\", \"legendgroup\": \"monday\", \"line\": {\"color\": \"gray\", \"dash\": \"dot\", \"width\": 0.5}, \"mode\": \"lines\", \"name\": \"Mondays\", \"showlegend\": false, \"type\": \"scatter\", \"x\": [\"2019-10-14\", \"2019-10-14\"], \"xaxis\": \"x\", \"y\": [0, 1.1], \"yaxis\": \"y\"}, {\"hoverinfo\": \"skip\", \"legendgroup\": \"monday\", \"line\": {\"color\": \"gray\", \"dash\": \"dot\", \"width\": 0.5}, \"mode\": \"lines\", \"name\": \"Mondays\", \"showlegend\": false, \"type\": \"scatter\", \"x\": [\"2019-10-21\", \"2019-10-21\"], \"xaxis\": \"x\", \"y\": [0, 1.1], \"yaxis\": \"y\"}, {\"hoverinfo\": \"skip\", \"legendgroup\": \"monday\", \"line\": {\"color\": \"gray\", \"dash\": \"dot\", \"width\": 0.5}, \"mode\": \"lines\", \"name\": \"Mondays\", \"showlegend\": false, \"type\": \"scatter\", \"x\": [\"2019-10-28\", \"2019-10-28\"], \"xaxis\": \"x\", \"y\": [0, 1.1], \"yaxis\": \"y\"}, {\"hoverinfo\": \"skip\", \"legendgroup\": \"monday\", \"line\": {\"color\": \"gray\", \"dash\": \"dot\", \"width\": 0.5}, \"mode\": \"lines\", \"name\": \"Mondays\", \"showlegend\": false, \"type\": \"scatter\", \"x\": [\"2019-11-04\", \"2019-11-04\"], \"xaxis\": \"x\", \"y\": [0, 1.1], \"yaxis\": \"y\"}, {\"hoverinfo\": \"skip\", \"legendgroup\": \"monday\", \"line\": {\"color\": \"gray\", \"dash\": \"dot\", \"width\": 0.5}, \"mode\": \"lines\", \"name\": \"Mondays\", \"showlegend\": false, \"type\": \"scatter\", \"x\": [\"2019-11-11\", \"2019-11-11\"], \"xaxis\": \"x\", \"y\": [0, 1.1], \"yaxis\": \"y\"}, {\"hoverinfo\": \"skip\", \"legendgroup\": \"monday\", \"line\": {\"color\": \"gray\", \"dash\": \"dot\", \"width\": 0.5}, \"mode\": \"lines\", \"name\": \"Mondays\", \"showlegend\": false, \"type\": \"scatter\", \"x\": [\"2019-11-18\", \"2019-11-18\"], \"xaxis\": \"x\", \"y\": [0, 1.1], \"yaxis\": \"y\"}, {\"hoverinfo\": \"skip\", \"legendgroup\": \"monday\", \"line\": {\"color\": \"gray\", \"dash\": \"dot\", \"width\": 0.5}, \"mode\": \"lines\", \"name\": \"Mondays\", \"showlegend\": false, \"type\": \"scatter\", \"x\": [\"2019-11-25\", \"2019-11-25\"], \"xaxis\": \"x\", \"y\": [0, 1.1], \"yaxis\": \"y\"}, {\"hoverinfo\": \"skip\", \"legendgroup\": \"monday\", \"line\": {\"color\": \"gray\", \"dash\": \"dot\", \"width\": 0.5}, \"mode\": \"lines\", \"name\": \"Mondays\", \"showlegend\": false, \"type\": \"scatter\", \"x\": [\"2019-12-02\", \"2019-12-02\"], \"xaxis\": \"x\", \"y\": [0, 1.1], \"yaxis\": \"y\"}, {\"hoverinfo\": \"skip\", \"legendgroup\": \"monday\", \"line\": {\"color\": \"gray\", \"dash\": \"dot\", \"width\": 0.5}, \"mode\": \"lines\", \"name\": \"Mondays\", \"showlegend\": false, \"type\": \"scatter\", \"x\": [\"2019-12-09\", \"2019-12-09\"], \"xaxis\": \"x\", \"y\": [0, 1.1], \"yaxis\": \"y\"}, {\"hoverinfo\": \"skip\", \"legendgroup\": \"good_enough_dates\", \"line\": {\"color\": \"rgba(5, 142, 255, 0.2)\", \"width\": 2}, \"mode\": \"lines\", \"name\": \"good enough for brainwide map\", \"showlegend\": true, \"type\": \"scatter\", \"x\": [\"2019-12-06\", \"2019-12-06\"], \"xaxis\": \"x\", \"y\": [0, 1.1], \"yaxis\": \"y\"}, {\"hoverinfo\": \"skip\", \"legendgroup\": \"good_enough_dates\", \"line\": {\"color\": \"rgba(5, 142, 255, 0.2)\", \"width\": 2}, \"mode\": \"lines\", \"name\": \"good enough for brainwide map\", \"showlegend\": false, \"type\": \"scatter\", \"x\": [\"2019-12-07\", \"2019-12-07\"], \"xaxis\": \"x\", \"y\": [0, 1.1], \"yaxis\": \"y\"}, {\"hoverinfo\": \"skip\", \"legendgroup\": \"good_enough_dates\", \"line\": {\"color\": \"rgba(5, 142, 255, 0.2)\", \"width\": 2}, \"mode\": \"lines\", \"name\": \"good enough for brainwide map\", \"showlegend\": false, \"type\": \"scatter\", \"x\": [\"2019-12-08\", \"2019-12-08\"], \"xaxis\": \"x\", \"y\": [0, 1.1], \"yaxis\": \"y\"}, {\"hoverinfo\": \"skip\", \"legendgroup\": \"good_enough_dates\", \"line\": {\"color\": \"rgba(5, 142, 255, 0.2)\", \"width\": 2}, \"mode\": \"lines\", \"name\": \"good enough for brainwide map\", \"showlegend\": false, \"type\": \"scatter\", \"x\": [\"2019-12-10\", \"2019-12-10\"], \"xaxis\": \"x\", \"y\": [0, 1.1], \"yaxis\": \"y\"}, {\"hoverinfo\": \"x\", \"marker\": {\"color\": \"rgba(195, 90, 80, 1)\"}, \"mode\": \"lines\", \"name\": \"first day got trained 1a\", \"showlegend\": true, \"type\": \"scatter\", \"x\": [\"2019-10-11\", \"2019-10-11\"], \"xaxis\": \"x\", \"y\": [0, 1.1], \"yaxis\": \"y\"}, {\"hoverinfo\": \"x\", \"marker\": {\"color\": \"rgba(255, 153, 20, 1)\"}, \"mode\": \"lines\", \"name\": \"first day got trained 1b\", \"showlegend\": true, \"type\": \"scatter\", \"x\": [\"2019-10-14\", \"2019-10-14\"], \"xaxis\": \"x\", \"y\": [0, 1.1], \"yaxis\": \"y\"}, {\"hoverinfo\": \"x\", \"marker\": {\"color\": \"rgba(28, 20, 255, 1)\"}, \"mode\": \"lines\", \"name\": \"first day got ready4ephysrig\", \"showlegend\": true, \"type\": \"scatter\", \"x\": [\"2019-11-19\", \"2019-11-19\"], \"xaxis\": \"x\", \"y\": [0, 1.1], \"yaxis\": \"y\"}, {\"hoverinfo\": \"x\", \"marker\": {\"color\": \"rgba(117, 117, 117, 1)\"}, \"mode\": \"lines\", \"name\": \"first day got ready4delay\", \"showlegend\": true, \"type\": \"scatter\", \"x\": [\"2019-11-26\", \"2019-11-26\"], \"xaxis\": \"x\", \"y\": [0, 1.1], \"yaxis\": \"y\"}, {\"hoverinfo\": \"x\", \"line\": {\"color\": \"rgba(5, 142, 255, 1)\", \"dash\": \"dashdot\", \"width\": 2}, \"mode\": \"lines\", \"name\": \"first ephys session date\", \"showlegend\": true, \"type\": \"scatter\", \"x\": [\"2019-12-06\", \"2019-12-06\"], \"xaxis\": \"x\", \"y\": [0, 1.1], \"yaxis\": \"y\"}],\n",
       "                        {\"height\": 400, \"legend\": {\"orientation\": \"v\", \"x\": 1.2, \"y\": 0.8}, \"template\": {\"layout\": {\"plot_bgcolor\": \"white\"}}, \"title\": {\"text\": \"Performance and median reaction time\", \"x\": 0.14, \"y\": 0.85}, \"width\": 700, \"xaxis\": {\"showgrid\": false, \"title\": {\"text\": \"Date\"}}, \"yaxis\": {\"range\": [0, 1.1], \"title\": {\"text\": \"Performance on easy trials\"}}, \"yaxis2\": {\"color\": \"red\", \"dtick\": [-1.0, 0.0, 1.0], \"overlaying\": \"y\", \"range\": [-1.0, 1.0], \"side\": \"right\", \"title\": {\"text\": \"Median reaction time (s)\"}, \"type\": \"log\"}},\n",
       "                        {\"responsive\": true}\n",
       "                    ).then(function(){\n",
       "                            \n",
       "var gd = document.getElementById('6626e648-bd2e-4733-a410-3acfb92f0e97');\n",
       "var x = new MutationObserver(function (mutations, observer) {{\n",
       "        var display = window.getComputedStyle(gd).display;\n",
       "        if (!display || display === 'none') {{\n",
       "            console.log([gd, 'removed!']);\n",
       "            Plotly.purge(gd);\n",
       "            observer.disconnect();\n",
       "        }}\n",
       "}});\n",
       "\n",
       "// Listen for the removal of the full notebook cells\n",
       "var notebookContainer = gd.closest('#notebook-container');\n",
       "if (notebookContainer) {{\n",
       "    x.observe(notebookContainer, {childList: true});\n",
       "}}\n",
       "\n",
       "// Listen for the clearing of the current output cell\n",
       "var outputEl = gd.closest('.output');\n",
       "if (outputEl) {{\n",
       "    x.observe(outputEl, {childList: true});\n",
       "}}\n",
       "\n",
       "                        })\n",
       "                };\n",
       "                });\n",
       "            </script>\n",
       "        </div>"
      ]
     },
     "metadata": {},
     "output_type": "display_data"
    }
   ],
   "source": [
    "perf_rt = subj.fetch1('KEY').copy()\n",
    "session_info = \\\n",
    "    (behavior.BehavioralSummaryByDate *\n",
    "        behavior.BehavioralSummaryByDate.ReactionTimeByDate &\n",
    "        subj).proj(\n",
    "            'session_date',\n",
    "            'performance_easy',\n",
    "            'median_reaction_time').fetch(as_dict=True)\n",
    "session_info = pd.DataFrame(session_info)\n",
    "yrange = [0, 1.1]\n",
    "performance_easy = go.Scatter(\n",
    "    x=[t.strftime('%Y-%m-%d') for t in session_info['session_date'].tolist()],\n",
    "    y=session_info['performance_easy'].tolist(),\n",
    "    mode='markers+lines',\n",
    "    marker=dict(\n",
    "        size=6,\n",
    "        color='black',\n",
    "        line=dict(\n",
    "            color='white',\n",
    "            width=1\n",
    "        )\n",
    "    ),\n",
    "    name='performance easy',\n",
    "    yaxis='y1',\n",
    "    showlegend=False\n",
    ")\n",
    "rt = go.Scatter(\n",
    "    x=[t.strftime('%Y-%m-%d') for t in session_info['session_date'].tolist()],\n",
    "    y=session_info['median_reaction_time'].tolist(),\n",
    "    mode='markers+lines',\n",
    "    marker=dict(\n",
    "        size=6,\n",
    "        color='red',\n",
    "        line=dict(\n",
    "            color='white',\n",
    "            width=1)\n",
    "    ),\n",
    "    name='reaction time',\n",
    "    yaxis='y2',\n",
    "    showlegend=False\n",
    ")\n",
    "\n",
    "data = [performance_easy, rt]\n",
    "\n",
    "# add monday plots\n",
    "data = putils.create_monday_plot(data, yrange, d['mondays'])\n",
    "\n",
    "# add good enough_plots\n",
    "if d['good_enough_dates']:\n",
    "    data = putils.create_good_enough_brainmap_plot(\n",
    "        data, yrange, d['good_enough_dates'])\n",
    "\n",
    "# add status plots\n",
    "data = putils.create_status_plot(\n",
    "    data, yrange, status, public=public)\n",
    "\n",
    "layout = go.Layout(\n",
    "\n",
    "    yaxis=dict(\n",
    "        title='Performance on easy trials',\n",
    "        range=yrange\n",
    "    ),\n",
    "    yaxis2=dict(\n",
    "        title='Median reaction time (s)',\n",
    "        overlaying='y',\n",
    "        color='red',\n",
    "        side='right',\n",
    "        type='log',\n",
    "        range=np.log10([0.1, 10]).tolist(),\n",
    "        dtick=np.log10([0.1, 1, 10]).tolist()\n",
    "\n",
    "    ),\n",
    "    xaxis=dict(\n",
    "        title='Date',\n",
    "        showgrid=False\n",
    "    ),\n",
    "    width=700,\n",
    "    height=400,\n",
    "    title=dict(\n",
    "        text='Performance and median reaction time',\n",
    "        x=0.14,\n",
    "        y=0.85\n",
    "    ),\n",
    "    legend=dict(\n",
    "        x=1.2,\n",
    "        y=0.8,\n",
    "        orientation='v'),\n",
    "    template=dict(\n",
    "        layout=dict(\n",
    "            plot_bgcolor=\"white\"\n",
    "        )\n",
    "    )\n",
    ")\n",
    "\n",
    "fig = go.Figure(data=data, layout=layout)\n",
    "plotly.offline.iplot(fig)"
   ]
  },
  {
   "cell_type": "code",
   "execution_count": 10,
   "metadata": {},
   "outputs": [],
   "source": [
    "f = open(\"performance_reaction_time.json\",\"w\")\n",
    "s = json.dumps(fig.to_plotly_json())\n",
    "f.write(s)\n",
    "f.close()"
   ]
  }
 ],
 "metadata": {
  "kernelspec": {
   "display_name": "Python 3",
   "language": "python",
   "name": "python3"
  },
  "language_info": {
   "codemirror_mode": {
    "name": "ipython",
    "version": 3
   },
   "file_extension": ".py",
   "mimetype": "text/x-python",
   "name": "python",
   "nbconvert_exporter": "python",
   "pygments_lexer": "ipython3",
   "version": "3.6.6"
  }
 },
 "nbformat": 4,
 "nbformat_minor": 2
}
