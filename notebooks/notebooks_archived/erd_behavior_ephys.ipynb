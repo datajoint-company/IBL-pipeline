{
 "cells": [
  {
   "cell_type": "code",
   "execution_count": null,
   "metadata": {},
   "outputs": [],
   "source": [
    "import datajoint as dj\n",
    "from ibl_pipeline import reference, subject, action, acquisition, ephys, behavior\n",
    "\n",
    "from ibl_pipeline.analyses import behavior as behavior_analyses"
   ]
  },
  {
   "cell_type": "code",
   "execution_count": null,
   "metadata": {},
   "outputs": [],
   "source": [
    "f = dj.Di(reference) - reference.BrainLocationAcronym - reference.Severity - reference.Atlas"
   ]
  },
  {
   "cell_type": "code",
   "execution_count": null,
   "metadata": {},
   "outputs": [],
   "source": [
    "f"
   ]
  },
  {
   "cell_type": "code",
   "execution_count": null,
   "metadata": {},
   "outputs": [],
   "source": [
    "f.save('reference.svg')"
   ]
  },
  {
   "cell_type": "code",
   "execution_count": null,
   "metadata": {},
   "outputs": [],
   "source": [
    "f = dj.Di(subject) - subject.SubjectProject - subject.SubjectUser - subject.SubjectCullMethod - subject.SubjectLab - \\\n",
    "    subject.UserHistory - subject.Implant\n",
    "f"
   ]
  },
  {
   "cell_type": "code",
   "execution_count": null,
   "metadata": {},
   "outputs": [],
   "source": [
    "f.save('subject.svg')"
   ]
  },
  {
   "cell_type": "code",
   "execution_count": null,
   "metadata": {},
   "outputs": [],
   "source": [
    "action_virtual = dj.create_virtual_module('action_virtual', 'ibl_action')"
   ]
  },
  {
   "cell_type": "code",
   "execution_count": null,
   "metadata": {},
   "outputs": [],
   "source": [
    "f = dj.Diagram(action) -dj.Diagram(action_virtual.WaterType) - dj.Di(action_virtual.SurgeryLabMember) + subject.Subject - \\\n",
    "action.VirusInjection - action.OtherAction - action.OtherActionUser - action.OtherActionProcedure"
   ]
  },
  {
   "cell_type": "code",
   "execution_count": null,
   "metadata": {},
   "outputs": [],
   "source": [
    "f"
   ]
  },
  {
   "cell_type": "code",
   "execution_count": null,
   "metadata": {},
   "outputs": [],
   "source": [
    "f.save('action.svg')"
   ]
  },
  {
   "cell_type": "code",
   "execution_count": null,
   "metadata": {},
   "outputs": [],
   "source": [
    "acq = dj.create_virtual_module('acq', 'ibl_acquisition')"
   ]
  },
  {
   "cell_type": "code",
   "execution_count": null,
   "metadata": {},
   "outputs": [],
   "source": [
    "f = dj.Di(acquisition) - acq.SessionProcedureType - acq.SessionLabMember"
   ]
  },
  {
   "cell_type": "code",
   "execution_count": null,
   "metadata": {},
   "outputs": [],
   "source": [
    "f.save('acquisition.svg')"
   ]
  },
  {
   "cell_type": "code",
   "execution_count": null,
   "metadata": {},
   "outputs": [],
   "source": [
    "dj.Di(behavior) - 1 - dj.Di(behavior.CompleteWheelMoveSession) - dj.Di(behavior.CompleteWheelSession) - dj.Di(behavior.SparseNoise) - \\\n",
    "dj.Di(behavior.SpontaneousTimeSet) - dj.Di(behavior.PassiveTrialSet) - dj.Di(behavior.Wheel)"
   ]
  },
  {
   "cell_type": "code",
   "execution_count": null,
   "metadata": {},
   "outputs": [],
   "source": [
    "f = dj.Di(acquisition.Session) + (dj.Di(behavior.TrialSet) + behavior.TrialSet.Trial) + behavior.WheelMoveSet + behavior.WheelMoveSet.WheelMove +\\\n",
    "behavior.Eye + behavior.Lick"
   ]
  },
  {
   "cell_type": "code",
   "execution_count": null,
   "metadata": {},
   "outputs": [],
   "source": [
    "f"
   ]
  },
  {
   "cell_type": "code",
   "execution_count": null,
   "metadata": {},
   "outputs": [],
   "source": [
    "f.save('behavior_erd.svg')"
   ]
  },
  {
   "cell_type": "code",
   "execution_count": null,
   "metadata": {},
   "outputs": [],
   "source": [
    "f = dj.Di(behavior.TrialSet)+dj.Di(behavior_analyses.SessionTrainingStatus) + behavior_analyses.ReactionTime + \\\n",
    "behavior_analyses.TrainingStatus + dj.Di(behavior_analyses.PsychResults) + behavior_analyses.BehavioralSummaryByDate + \\\n",
    "behavior_analyses.BehavioralSummaryByDate.PsychResults + behavior_analyses.BehavioralSummaryByDate.ReactionTimeByDate + subject.Subject"
   ]
  },
  {
   "cell_type": "code",
   "execution_count": null,
   "metadata": {},
   "outputs": [],
   "source": [
    "f"
   ]
  },
  {
   "cell_type": "code",
   "execution_count": null,
   "metadata": {},
   "outputs": [],
   "source": [
    "f.save('behavior_analyses_erd.svg')"
   ]
  },
  {
   "cell_type": "code",
   "execution_count": null,
   "metadata": {},
   "outputs": [],
   "source": [
    "ephys_di = dj.Di(ephys.Ephys) + ephys.Probe + ephys.ProbeInsertion + ephys.LFP + ephys.ProbeInsertionLocation + \\\n",
    "           (dj.Di(ephys.ChannelGroup) + 1) + ephys.ProbeInsertionLocation + ephys.ChannelBrainLocation + ephys.Ephys + \\\n",
    "           ephys.Cluster + ephys.TrialSpikes"
   ]
  },
  {
   "cell_type": "code",
   "execution_count": null,
   "metadata": {},
   "outputs": [],
   "source": [
    "ephys_di"
   ]
  },
  {
   "cell_type": "code",
   "execution_count": null,
   "metadata": {},
   "outputs": [],
   "source": [
    "ephys_di.save('ephys_erd.svg')"
   ]
  },
  {
   "cell_type": "code",
   "execution_count": null,
   "metadata": {},
   "outputs": [],
   "source": [
    "ephys_behav = dj.Di(behavior.TrialSet) + acquisition.Session + ephys_di"
   ]
  },
  {
   "cell_type": "code",
   "execution_count": null,
   "metadata": {},
   "outputs": [],
   "source": [
    "ephys_behav.save('ephys_behavior_erd.svg')"
   ]
  },
  {
   "cell_type": "code",
   "execution_count": null,
   "metadata": {},
   "outputs": [],
   "source": []
  }
 ],
 "metadata": {
  "kernelspec": {
   "display_name": "Python 3",
   "language": "python",
   "name": "python3"
  },
  "language_info": {
   "codemirror_mode": {
    "name": "ipython",
    "version": 3
   },
   "file_extension": ".py",
   "mimetype": "text/x-python",
   "name": "python",
   "nbconvert_exporter": "python",
   "pygments_lexer": "ipython3",
   "version": "3.6.6"
  }
 },
 "nbformat": 4,
 "nbformat_minor": 2
}
