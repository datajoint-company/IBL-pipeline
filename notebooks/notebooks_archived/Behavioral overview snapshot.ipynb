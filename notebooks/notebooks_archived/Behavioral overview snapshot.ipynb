{
 "cells": [
  {
   "cell_type": "code",
   "execution_count": null,
   "metadata": {},
   "outputs": [],
   "source": [
    "import datajoint as dj\n",
    "from ibl_pipeline import reference, subject, action, acquisition, data, behavior\n",
    "import matplotlib.pyplot as plt\n",
    "import seaborn as sns\n",
    "from datetime import timedelta\n",
    "import matplotlib as mpl\n",
    "import matplotlib.dates as mdates\n",
    "import pandas as pd\n",
    "import numpy as np"
   ]
  },
  {
   "cell_type": "code",
   "execution_count": null,
   "metadata": {},
   "outputs": [],
   "source": [
    "from ibl_pipeline.analyses import psychofit as psy"
   ]
  },
  {
   "cell_type": "code",
   "execution_count": null,
   "metadata": {},
   "outputs": [],
   "source": [
    "from ibl_pipeline.analyses.behavior_plots import fix_date_axis, plot_perf_heatmap, plot_psychometric, plot_chronometric"
   ]
  },
  {
   "cell_type": "code",
   "execution_count": null,
   "metadata": {},
   "outputs": [],
   "source": [
    "ibl17 = (subject.Subject() & 'subject_nickname = \"IBL_17\"').fetch1()"
   ]
  },
  {
   "cell_type": "code",
   "execution_count": null,
   "metadata": {},
   "outputs": [],
   "source": [
    "def dj_get_water(mouse):\n",
    "    w = (action.WaterAdministration() & mouse).fetch(as_dict=True)\n",
    "    w = pd.DataFrame(w)\n",
    "    w.rename(columns={'administration_time':'date_time'}, inplace=True)\n",
    "    w['date_time'] = pd.to_datetime(w.date_time)\n",
    "    w.sort_values('date_time', inplace=True)\n",
    "    w.reset_index(drop=True, inplace=True)\n",
    "    w['date'] = w['date_time'].dt.floor('D')\n",
    "    w['days'] = w.date - w.date[0]\n",
    "    w['days'] = w.days.dt.days\n",
    "    w = w.set_index('date')\n",
    "    w.index = pd.to_datetime(w.index)\n",
    "    wa_unstacked = w.pivot_table(index='date', \n",
    "        columns='watertype_name', values='water_administered', aggfunc='sum').reset_index()\n",
    "    wa_unstacked['date'] = pd.to_datetime(wa_unstacked.date)\n",
    "    wa_unstacked.set_index('date', inplace=True)\n",
    "    return wa_unstacked, w"
   ]
  },
  {
   "cell_type": "code",
   "execution_count": null,
   "metadata": {},
   "outputs": [],
   "source": [
    "def dj_get_behavior(mouse):\n",
    "    b = behavior.TrialSet.Trial & mouse\n",
    "    behav = pd.DataFrame(b.fetch(order_by='session_start_time, trial_id'))\n",
    "    behav['start_time'] = behav['session_start_time']\n",
    "    behav['trial'] = behav['trial_id'] - 1\n",
    "    behav['session_start_time'] = pd.to_datetime(behav.session_start_time)\n",
    "    behav['date']       = behav['session_start_time'].dt.floor(\"D\")\n",
    "    behav['days']       = behav.date - behav.date[0]\n",
    "    behav['days']       = behav.days.dt.days\n",
    "    behav['signedContrast'] = (behav['trial_stim_contrast_left'] - behav['trial_stim_contrast_right']) * 100\n",
    "    behav['signedContrast'] = behav.signedContrast.astype(int)\n",
    "    val_map = {'CCW': -1, 'No Go': 0, 'CW': 1}\n",
    "    behav['choice'] = behav['trial_choice'].map(val_map)\n",
    "    behav['correct']   = np.where(np.sign(behav['signedContrast']) == behav['choice'], 1, 0)\n",
    "    behav.loc[behav['signedContrast'] == 0, 'correct'] = np.NaN\n",
    "    behav['choice2'] = behav.choice.replace([-1, 0, 1], [0, np.nan, 1]) # code as 0, 100 for percentages\n",
    "    behav['correct_easy'] = behav.correct\n",
    "    behav.loc[np.abs(behav['signedContrast']) < 50, 'correct_easy'] = np.NaN\n",
    "    behav.rename(columns={'trial_stim_prob_left':'probabilityLeft'}, inplace=True)\n",
    "    behav['rt'] = behav['trial_response_time'] - behav['trial_stim_on_time']\n",
    "    behav['included'] = behav['trial_included']\n",
    "    return behav"
   ]
  },
  {
   "cell_type": "code",
   "execution_count": null,
   "metadata": {},
   "outputs": [],
   "source": [
    "def fit_psychfunc(df):\n",
    "\n",
    "    # reshape data\n",
    "    choicedat = df.groupby('signedContrast').agg({'trial_id':'max', 'choice2':'mean'}).reset_index()\n",
    "    # print(choicedat)\n",
    "\n",
    "    # if size(np.abs(df['signedContrast'])) > 6:\n",
    "    pars, L = psy.mle_fit_psycho(choicedat.values.transpose(), P_model='erf_psycho_2gammas', parstart=np.array([choicedat['signedContrast'].mean(), 20., 0.05, 0.05]), parmin=np.array([choicedat['signedContrast'].min(), 0., 0., 0.]), parmax=np.array([choicedat['signedContrast'].max(), 100., 1, 1]))\n",
    "\n",
    "    df2 = {'bias':pars[0],'threshold':pars[1], 'lapselow':pars[2], 'lapsehigh':pars[3]}\n",
    "    return pd.DataFrame(df2, index=[0])"
   ]
  },
  {
   "cell_type": "markdown",
   "metadata": {},
   "source": [
    "## Weight over time"
   ]
  },
  {
   "cell_type": "code",
   "execution_count": null,
   "metadata": {},
   "outputs": [],
   "source": [
    "wei = {}\n",
    "wei['date_time'], wei['weight'] = (action.Weighing() & ibl17).fetch('weighing_time', 'weight', order_by='weighing_time')"
   ]
  },
  {
   "cell_type": "code",
   "execution_count": null,
   "metadata": {},
   "outputs": [],
   "source": [
    "fig = plt.figure()\n",
    "ax = plt.subplot(1, 1, 1)\n",
    "sns.lineplot(x=\"date_time\", y=\"weight\", color=\"black\", markers=True, data=wei, ax=ax)\n",
    "sns.scatterplot(x=\"date_time\", y=\"weight\", color=\"black\", data=wei, ax=ax)\n",
    "ax.set(xlabel='', ylabel=\"Weight (g)\", \n",
    "xlim=[wei['date_time'].min()-timedelta(days=1), wei['date_time'].max()+timedelta(days=1)])\n",
    "fix_date_axis(ax)"
   ]
  },
  {
   "cell_type": "markdown",
   "metadata": {},
   "source": [
    "## Water intake"
   ]
  },
  {
   "cell_type": "code",
   "execution_count": null,
   "metadata": {},
   "outputs": [],
   "source": [
    "fig = plt.figure()\n",
    "ax = plt.subplot(1, 1, 1)\n",
    "sns.set_palette(\"colorblind\") # palette for water\n",
    "wa_unstacked, wa = dj_get_water(ibl17)\n",
    "wa_unstacked.loc[:,['Water']].plot.bar(stacked=True, ax=ax)\n",
    "l = ax.legend()\n",
    "l.set_title('')\n",
    "ax.set(ylabel=\"Water intake (mL)\", xlabel='')\n",
    "\n",
    "# fix dates, known to be an issue in pandas/matplotlib\n",
    "ax.set_xticklabels([dt.strftime('%b-%d') if dt.weekday() is 1 else \"\" for dt in wa_unstacked.index.to_pydatetime()])\n",
    "for item in ax.get_xticklabels():\n",
    "    item.set_rotation(60)"
   ]
  },
  {
   "cell_type": "markdown",
   "metadata": {},
   "source": [
    "## Performance on easy trials"
   ]
  },
  {
   "cell_type": "code",
   "execution_count": null,
   "metadata": {},
   "outputs": [],
   "source": [
    "behav = dj_get_behavior(ibl17)\n",
    "correct_easy = behav.groupby(['session_start_time'])['correct_easy'].mean().reset_index()\n",
    "trialcounts = behav.groupby(['session_start_time'])['trial_id'].max().reset_index()"
   ]
  },
  {
   "cell_type": "code",
   "execution_count": null,
   "metadata": {},
   "outputs": [],
   "source": [
    "fig = plt.figure()\n",
    "ax = plt.subplot(1, 1, 1)\n",
    "sns.lineplot(x=\"session_start_time\", y=\"correct_easy\", markers=True, color=\"black\", data=correct_easy, ax=ax)\n",
    "sns.scatterplot(x=\"session_start_time\", y=\"correct_easy\", color=\"black\", data=correct_easy, ax=ax)\n",
    "ax.set(xlabel='', ylabel=\"Performance on easy trials\", \n",
    "    xlim=[behav.date.min()-timedelta(days=1), behav.date.max()+timedelta(days=2)],\n",
    "    yticks=[0.5, 0.75, 1], ylim=[0.4, 1.01])\n",
    "ax.yaxis.label.set_color(\"black\")\n",
    "righty = ax.twinx()\n",
    "sns.lineplot(x=\"session_start_time\", y=\"trial_id\", markers=True, color=\"firebrick\", data=trialcounts, ax=righty)\n",
    "sns.scatterplot(x=\"session_start_time\", y=\"trial_id\", color=\"firebrick\", data=trialcounts, ax=righty)\n",
    "righty.yaxis.label.set_color(\"firebrick\")\n",
    "righty.grid(False)\n",
    "fix_date_axis(righty)\n",
    "fix_date_axis(ax)\n",
    "righty.set(xlabel='', ylabel=\"Trial count\", \n",
    "xlim=[behav.date.min()-timedelta(days=1), behav.date.max()+timedelta(days=2)])\n",
    "fix_date_axis(ax)"
   ]
  },
  {
   "cell_type": "markdown",
   "metadata": {},
   "source": [
    "## Contrast/choice heatmap"
   ]
  },
  {
   "cell_type": "code",
   "execution_count": null,
   "metadata": {},
   "outputs": [],
   "source": [
    "fig = plt.figure()\n",
    "ax = plt.subplot(1, 1, 1)\n",
    "plot_perf_heatmap(behav, ax=ax)\n",
    "ax.set_xticklabels([dt.strftime('%b-%d') if dt.weekday() is 1 else \"\" for dt in wa_unstacked.index.to_pydatetime()])\n",
    "for item in ax.get_xticklabels():\n",
    "    item.set_rotation(60)"
   ]
  },
  {
   "cell_type": "markdown",
   "metadata": {},
   "source": [
    "## Psychometric function fits over time"
   ]
  },
  {
   "cell_type": "code",
   "execution_count": null,
   "metadata": {},
   "outputs": [],
   "source": [
    "fig, axes = plt.subplots(ncols=1, nrows=4, constrained_layout=False, figsize=(3, 6))\n",
    "pars = behav.groupby(['session_start_time', 'probabilityLeft']).apply(fit_psychfunc).reset_index()\n",
    "parsdict = {'threshold': r'Threshold $(\\sigma)$', 'bias': r'Bias $(\\mu)$', \n",
    "    'lapselow': r'Lapse low $(\\gamma)$', 'lapsehigh': r'Lapse high $(\\lambda)$'}\n",
    "ylims = [[-5, 105], [-105, 105], [-0.05, 1.05], [-0.05, 1.05]]\n",
    "\n",
    "# pick a good-looking diverging colormap with black in the middle\n",
    "cmap = sns.diverging_palette(220, 20, n=len(behav['probabilityLeft'].unique()), center=\"dark\")\n",
    "if len(behav['probabilityLeft'].unique()) == 1:\n",
    "    cmap = \"gist_gray\"\n",
    "sns.set_palette(cmap)\n",
    "\n",
    "for pidx, (var, labelname) in enumerate(parsdict.items()):\n",
    "    ax = axes[pidx]\n",
    "    sns.lineplot(x=\"session_start_time\", y=var, hue=\"probabilityLeft\", palette=cmap, data=pars, legend=None, ax=ax)\n",
    "    sns.scatterplot(x=\"session_start_time\", y=var, hue=\"probabilityLeft\", palette=cmap, data=pars, legend=None, ax=ax)\n",
    "    ax.set(xlabel='', ylabel=labelname, ylim=ylims[pidx], xlim=[behav.date.min()-timedelta(days=1), behav.date.max()+timedelta(days=1)])\n",
    "\n",
    "    fix_date_axis(ax)\n",
    "    if pidx == 0:\n",
    "        ax.set(title=r'$\\gamma + (1 -\\gamma-\\lambda)  (erf(\\frac{x-\\mu}{\\sigma} + 1)/2$')\n",
    "    if pidx < 3:\n",
    "        ax.set(xticklabels=[])"
   ]
  },
  {
   "cell_type": "markdown",
   "metadata": {},
   "source": [
    "## Last three sessions"
   ]
  },
  {
   "cell_type": "code",
   "execution_count": null,
   "metadata": {},
   "outputs": [],
   "source": [
    "fig, axes = plt.subplots(ncols=3, nrows=4, constrained_layout=False, figsize=(8, 8))\n",
    "didx = 0\n",
    "sorteddays = behav['days'].sort_values(ascending=True).unique()\n",
    "for day in sorteddays[-3:]:\n",
    "\n",
    "    dat = behav.loc[behav['days'] == day, :]\n",
    "\n",
    "    # PSYCHOMETRIC FUNCTION\n",
    "    ax = axes[0, didx]\n",
    "    cmap = sns.diverging_palette(220, 20, n=len(dat['probabilityLeft'].unique()), center=\"dark\")\n",
    "    if len(dat['probabilityLeft'].unique()) == 1:\n",
    "        cmap = [np.array([0,0,0,1])]\n",
    "\n",
    "    for ix, probLeft in enumerate(dat['probabilityLeft'].sort_values().unique()):\n",
    "        plot_psychometric(dat.loc[dat['probabilityLeft'] == probLeft, :], ax=ax, color=cmap[ix])\n",
    "\n",
    "    ax.set(xlabel=\"Contrast (%)\", ylabel=\"Choose right (%)\")\n",
    "    ax.set(title=pd.to_datetime(dat['start_time'].unique()[0]).strftime('%b-%d, %A'))\n",
    "\n",
    "    # CHRONOMETRIC FUNCTION\n",
    "    ax = axes[1, didx]\n",
    "    for ix, probLeft in enumerate(dat['probabilityLeft'].sort_values().unique()):\n",
    "        plot_chronometric(dat.loc[dat['probabilityLeft'] == probLeft, :], ax, cmap[ix])\n",
    "    ax.set(ylim=[0.1,1])\n",
    "    ax.set_yscale(\"log\")\n",
    "    ax.yaxis.set_major_formatter(mpl.ticker.FuncFormatter(lambda y,pos: ('{{:.{:1d}f}}'.format(int(np.maximum(-np.log10(y),0)))).format(y)))\n",
    "\n",
    "    # RTS THROUGHOUT SESSION\n",
    "    ax = axes[2, didx]\n",
    "    sns.scatterplot(x='trial', y='rt', hue='correct', \n",
    "        palette={1:\"forestgreen\", 0:\"crimson\"},\n",
    "        alpha=.5, data=dat, ax=ax, legend=False)\n",
    "    sns.lineplot(x='trial', y='rt', color='black', ci=None, \n",
    "        data=dat[['trial', 'rt']].rolling(10).median(), ax=ax) \n",
    "    ax.set(xlabel=\"Trial number\", ylabel=\"RT (s)\", ylim=[0.02, 60])\n",
    "    ax.set_yscale(\"log\")\n",
    "    ax.yaxis.set_major_formatter(mpl.ticker.FuncFormatter(lambda y,pos: ('{{:.{:1d}f}}'.format(int(np.maximum(-np.log10(y),0)))).format(y)))\n",
    "\n",
    "    # WHEEL ANALYSIS\n",
    "    # thisdate = dat.loc[dat.index[0], 'date'].strftime('%Y-%m-%d')\n",
    "    # eid = one.search(subjects=mouse, date_range=[thisdate, thisdate])\n",
    "    # t, wheelpos, wheelvel = one.load(eid[0], \n",
    "    # \tdataset_types=['_ibl_wheel.timestamps', '_ibl_wheel.position', '_ibl_wheel.velocity'])\n",
    "    # wheeltimes = np.interp(np.arange(0,len(wheelpos)), t[:,0], t[:,1])\n",
    "    #    #times = np.interp(np.arange(0,len(wheelPos)), t[:,0], t[:,1])\n",
    "    # wheel = pd.DataFrame.from_dict({'position':wheelpos, 'velocity':wheelvel, 'times':wheeltimes})\n",
    "\n",
    "    # ax = axes[3, didx]\n",
    "    # sns.lineplot(x=wheeltimes, y=wheelpos, ax=ax)\n",
    "    ax = axes[3, didx]\n",
    "    ax.set(xlabel='Time from cue (s)', ylabel='Wheel rotation (deg)')\n",
    "    \n",
    "    didx += 1\n",
    "\n",
    "for i in range(3):\n",
    "    axes[i,1].set(ylabel='')\n",
    "    axes[i,2].set(ylabel='')\n",
    "\n",
    "plt.tight_layout(rect=[0, 0.03, 1, 0.95])"
   ]
  },
  {
   "cell_type": "code",
   "execution_count": null,
   "metadata": {},
   "outputs": [],
   "source": []
  }
 ],
 "metadata": {
  "kernelspec": {
   "display_name": "Python 3",
   "language": "python",
   "name": "python3"
  },
  "language_info": {
   "codemirror_mode": {
    "name": "ipython",
    "version": 3
   },
   "file_extension": ".py",
   "mimetype": "text/x-python",
   "name": "python",
   "nbconvert_exporter": "python",
   "pygments_lexer": "ipython3",
   "version": "3.6.6"
  }
 },
 "nbformat": 4,
 "nbformat_minor": 2
}
