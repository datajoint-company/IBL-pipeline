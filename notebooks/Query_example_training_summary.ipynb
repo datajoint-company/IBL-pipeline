{
 "cells": [
  {
   "cell_type": "markdown",
   "metadata": {},
   "source": [
    "# Get a summary of training status of all alive subjects in a lab"
   ]
  },
  {
   "cell_type": "code",
   "execution_count": null,
   "metadata": {},
   "outputs": [],
   "source": [
    "import datajoint as dj\n",
    "from ibl_pipeline import subject, action, acquisition, behavior\n",
    "from ibl_pipeline.analyses import behavior as behavior_analyses\n",
    "import re"
   ]
  },
  {
   "cell_type": "markdown",
   "metadata": {},
   "source": [
    "## Get all alive subjects in a lab with water administration and weight"
   ]
  },
  {
   "cell_type": "code",
   "execution_count": null,
   "metadata": {},
   "outputs": [],
   "source": [
    "subjects = (subject.Subject - subject.Death) & 'lab_name = \"churchlandlab\"' \\\n",
    "    & 'sex!=\"U\"' & action.Weighing & action.WaterAdministration"
   ]
  },
  {
   "cell_type": "code",
   "execution_count": null,
   "metadata": {},
   "outputs": [],
   "source": [
    "subjects"
   ]
  },
  {
   "cell_type": "markdown",
   "metadata": {},
   "source": [
    "## List subjects with some training summaries\n",
    ">* current training protocol\n",
    ">* date of the last session\n",
    ">* current training status"
   ]
  },
  {
   "cell_type": "markdown",
   "metadata": {},
   "source": [
    "First, let's find the last session for each subject, including the protocol used in the last session."
   ]
  },
  {
   "cell_type": "code",
   "execution_count": null,
   "metadata": {},
   "outputs": [],
   "source": [
    "last_sessions = subjects.aggr(acquisition.Session & 'task_protocol!=\"NULL\"', \n",
    "                              'task_protocol', session_start_time='max(session_start_time)')\n",
    "last_sessions"
   ]
  },
  {
   "cell_type": "markdown",
   "metadata": {},
   "source": [
    "Second, get the current training status"
   ]
  },
  {
   "cell_type": "code",
   "execution_count": null,
   "metadata": {},
   "outputs": [],
   "source": [
    "last_sessions * behavior_analyses.SessionTrainingStatus"
   ]
  }
 ],
 "metadata": {
  "kernelspec": {
   "display_name": "Python 3",
   "language": "python",
   "name": "python3"
  },
  "language_info": {
   "codemirror_mode": {
    "name": "ipython",
    "version": 3
   },
   "file_extension": ".py",
   "mimetype": "text/x-python",
   "name": "python",
   "nbconvert_exporter": "python",
   "pygments_lexer": "ipython3",
   "version": "3.6.6"
  }
 },
 "nbformat": 4,
 "nbformat_minor": 2
}
